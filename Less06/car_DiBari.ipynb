{
 "cells": [
  {
   "cell_type": "code",
   "execution_count": null,
   "metadata": {},
   "outputs": [],
   "source": [
    "import pandas as pd\n",
    "import numpy as np\n",
    "import seaborn as sns\n",
    "import matplotlib.pyplot as plt\n",
    "from sklearn.linear_model import LinearRegression\n"
   ]
  },
  {
   "cell_type": "code",
   "execution_count": null,
   "metadata": {},
   "outputs": [],
   "source": [
    "url=\"https://frenzy86.s3.eu-west-2.amazonaws.com/python/data/cars.csv\""
   ]
  },
  {
   "cell_type": "code",
   "execution_count": null,
   "metadata": {},
   "outputs": [],
   "source": [
    "dataset= pd.read_csv(url)"
   ]
  },
  {
   "cell_type": "code",
   "execution_count": null,
   "metadata": {},
   "outputs": [
    {
     "data": {
      "text/html": [
       "<div>\n",
       "<style scoped>\n",
       "    .dataframe tbody tr th:only-of-type {\n",
       "        vertical-align: middle;\n",
       "    }\n",
       "\n",
       "    .dataframe tbody tr th {\n",
       "        vertical-align: top;\n",
       "    }\n",
       "\n",
       "    .dataframe thead th {\n",
       "        text-align: right;\n",
       "    }\n",
       "</style>\n",
       "<table border=\"1\" class=\"dataframe\">\n",
       "  <thead>\n",
       "    <tr style=\"text-align: right;\">\n",
       "      <th></th>\n",
       "      <th>name</th>\n",
       "      <th>year</th>\n",
       "      <th>Price</th>\n",
       "      <th>kms_driven</th>\n",
       "      <th>fuel_type</th>\n",
       "    </tr>\n",
       "  </thead>\n",
       "  <tbody>\n",
       "    <tr>\n",
       "      <th>0</th>\n",
       "      <td>Hyundai Santro Xing XO eRLX Euro III</td>\n",
       "      <td>2007</td>\n",
       "      <td>80,000</td>\n",
       "      <td>45,000 kms</td>\n",
       "      <td>Petrol</td>\n",
       "    </tr>\n",
       "    <tr>\n",
       "      <th>1</th>\n",
       "      <td>Mahindra Jeep CL550 MDI</td>\n",
       "      <td>2006</td>\n",
       "      <td>4,25,000</td>\n",
       "      <td>40 kms</td>\n",
       "      <td>Diesel</td>\n",
       "    </tr>\n",
       "    <tr>\n",
       "      <th>2</th>\n",
       "      <td>Maruti Suzuki Alto 800 Vxi</td>\n",
       "      <td>2018</td>\n",
       "      <td>Ask For Price</td>\n",
       "      <td>22,000 kms</td>\n",
       "      <td>Petrol</td>\n",
       "    </tr>\n",
       "    <tr>\n",
       "      <th>3</th>\n",
       "      <td>Hyundai Grand i10 Magna 1.2 Kappa VTVT</td>\n",
       "      <td>2014</td>\n",
       "      <td>3,25,000</td>\n",
       "      <td>28,000 kms</td>\n",
       "      <td>Petrol</td>\n",
       "    </tr>\n",
       "    <tr>\n",
       "      <th>4</th>\n",
       "      <td>Ford EcoSport Titanium 1.5L TDCi</td>\n",
       "      <td>2014</td>\n",
       "      <td>5,75,000</td>\n",
       "      <td>36,000 kms</td>\n",
       "      <td>Diesel</td>\n",
       "    </tr>\n",
       "    <tr>\n",
       "      <th>...</th>\n",
       "      <td>...</td>\n",
       "      <td>...</td>\n",
       "      <td>...</td>\n",
       "      <td>...</td>\n",
       "      <td>...</td>\n",
       "    </tr>\n",
       "    <tr>\n",
       "      <th>887</th>\n",
       "      <td>Ta</td>\n",
       "      <td>zest</td>\n",
       "      <td>3,10,000</td>\n",
       "      <td>NaN</td>\n",
       "      <td>NaN</td>\n",
       "    </tr>\n",
       "    <tr>\n",
       "      <th>888</th>\n",
       "      <td>Tata Zest XM Diesel</td>\n",
       "      <td>2018</td>\n",
       "      <td>2,60,000</td>\n",
       "      <td>27,000 kms</td>\n",
       "      <td>Diesel</td>\n",
       "    </tr>\n",
       "    <tr>\n",
       "      <th>889</th>\n",
       "      <td>Mahindra Quanto C8</td>\n",
       "      <td>2013</td>\n",
       "      <td>3,90,000</td>\n",
       "      <td>40,000 kms</td>\n",
       "      <td>Diesel</td>\n",
       "    </tr>\n",
       "    <tr>\n",
       "      <th>890</th>\n",
       "      <td>Honda Amaze 1.2 E i VTEC</td>\n",
       "      <td>2014</td>\n",
       "      <td>1,80,000</td>\n",
       "      <td>Petrol</td>\n",
       "      <td>NaN</td>\n",
       "    </tr>\n",
       "    <tr>\n",
       "      <th>891</th>\n",
       "      <td>Chevrolet Sail 1.2 LT ABS</td>\n",
       "      <td>2014</td>\n",
       "      <td>1,60,000</td>\n",
       "      <td>Petrol</td>\n",
       "      <td>NaN</td>\n",
       "    </tr>\n",
       "  </tbody>\n",
       "</table>\n",
       "<p>892 rows × 5 columns</p>\n",
       "</div>"
      ],
      "text/plain": [
       "                                       name  year          Price  kms_driven  \\\n",
       "0      Hyundai Santro Xing XO eRLX Euro III  2007         80,000  45,000 kms   \n",
       "1                   Mahindra Jeep CL550 MDI  2006       4,25,000      40 kms   \n",
       "2                Maruti Suzuki Alto 800 Vxi  2018  Ask For Price  22,000 kms   \n",
       "3    Hyundai Grand i10 Magna 1.2 Kappa VTVT  2014       3,25,000  28,000 kms   \n",
       "4          Ford EcoSport Titanium 1.5L TDCi  2014       5,75,000  36,000 kms   \n",
       "..                                      ...   ...            ...         ...   \n",
       "887                                      Ta  zest       3,10,000         NaN   \n",
       "888                     Tata Zest XM Diesel  2018       2,60,000  27,000 kms   \n",
       "889                      Mahindra Quanto C8  2013       3,90,000  40,000 kms   \n",
       "890                Honda Amaze 1.2 E i VTEC  2014       1,80,000      Petrol   \n",
       "891               Chevrolet Sail 1.2 LT ABS  2014       1,60,000      Petrol   \n",
       "\n",
       "    fuel_type  \n",
       "0      Petrol  \n",
       "1      Diesel  \n",
       "2      Petrol  \n",
       "3      Petrol  \n",
       "4      Diesel  \n",
       "..        ...  \n",
       "887       NaN  \n",
       "888    Diesel  \n",
       "889    Diesel  \n",
       "890       NaN  \n",
       "891       NaN  \n",
       "\n",
       "[892 rows x 5 columns]"
      ]
     },
     "execution_count": 45,
     "metadata": {},
     "output_type": "execute_result"
    }
   ],
   "source": [
    "dataset\n"
   ]
  },
  {
   "cell_type": "code",
   "execution_count": null,
   "metadata": {},
   "outputs": [
    {
     "data": {
      "text/html": [
       "<div>\n",
       "<style scoped>\n",
       "    .dataframe tbody tr th:only-of-type {\n",
       "        vertical-align: middle;\n",
       "    }\n",
       "\n",
       "    .dataframe tbody tr th {\n",
       "        vertical-align: top;\n",
       "    }\n",
       "\n",
       "    .dataframe thead th {\n",
       "        text-align: right;\n",
       "    }\n",
       "</style>\n",
       "<table border=\"1\" class=\"dataframe\">\n",
       "  <thead>\n",
       "    <tr style=\"text-align: right;\">\n",
       "      <th></th>\n",
       "      <th>name</th>\n",
       "      <th>year</th>\n",
       "      <th>Price</th>\n",
       "      <th>kms_driven</th>\n",
       "      <th>fuel_type</th>\n",
       "    </tr>\n",
       "  </thead>\n",
       "  <tbody>\n",
       "    <tr>\n",
       "      <th>0</th>\n",
       "      <td>Hyundai Santro Xing XO eRLX Euro III</td>\n",
       "      <td>2007</td>\n",
       "      <td>80,000</td>\n",
       "      <td>45,000 kms</td>\n",
       "      <td>Petrol</td>\n",
       "    </tr>\n",
       "    <tr>\n",
       "      <th>1</th>\n",
       "      <td>Mahindra Jeep CL550 MDI</td>\n",
       "      <td>2006</td>\n",
       "      <td>4,25,000</td>\n",
       "      <td>40 kms</td>\n",
       "      <td>Diesel</td>\n",
       "    </tr>\n",
       "    <tr>\n",
       "      <th>2</th>\n",
       "      <td>Maruti Suzuki Alto 800 Vxi</td>\n",
       "      <td>2018</td>\n",
       "      <td>Ask For Price</td>\n",
       "      <td>22,000 kms</td>\n",
       "      <td>Petrol</td>\n",
       "    </tr>\n",
       "    <tr>\n",
       "      <th>3</th>\n",
       "      <td>Hyundai Grand i10 Magna 1.2 Kappa VTVT</td>\n",
       "      <td>2014</td>\n",
       "      <td>3,25,000</td>\n",
       "      <td>28,000 kms</td>\n",
       "      <td>Petrol</td>\n",
       "    </tr>\n",
       "    <tr>\n",
       "      <th>4</th>\n",
       "      <td>Ford EcoSport Titanium 1.5L TDCi</td>\n",
       "      <td>2014</td>\n",
       "      <td>5,75,000</td>\n",
       "      <td>36,000 kms</td>\n",
       "      <td>Diesel</td>\n",
       "    </tr>\n",
       "  </tbody>\n",
       "</table>\n",
       "</div>"
      ],
      "text/plain": [
       "                                     name  year          Price  kms_driven  \\\n",
       "0    Hyundai Santro Xing XO eRLX Euro III  2007         80,000  45,000 kms   \n",
       "1                 Mahindra Jeep CL550 MDI  2006       4,25,000      40 kms   \n",
       "2              Maruti Suzuki Alto 800 Vxi  2018  Ask For Price  22,000 kms   \n",
       "3  Hyundai Grand i10 Magna 1.2 Kappa VTVT  2014       3,25,000  28,000 kms   \n",
       "4        Ford EcoSport Titanium 1.5L TDCi  2014       5,75,000  36,000 kms   \n",
       "\n",
       "  fuel_type  \n",
       "0    Petrol  \n",
       "1    Diesel  \n",
       "2    Petrol  \n",
       "3    Petrol  \n",
       "4    Diesel  "
      ]
     },
     "execution_count": 46,
     "metadata": {},
     "output_type": "execute_result"
    }
   ],
   "source": [
    "dataset.head()"
   ]
  },
  {
   "cell_type": "code",
   "execution_count": null,
   "metadata": {},
   "outputs": [
    {
     "name": "stderr",
     "output_type": "stream",
     "text": [
      "C:\\Users\\rober\\AppData\\Local\\Temp\\ipykernel_6416\\646543041.py:3: SettingWithCopyWarning: \n",
      "A value is trying to be set on a copy of a slice from a DataFrame.\n",
      "Try using .loc[row_indexer,col_indexer] = value instead\n",
      "\n",
      "See the caveats in the documentation: https://pandas.pydata.org/pandas-docs/stable/user_guide/indexing.html#returning-a-view-versus-a-copy\n",
      "  cars_df['price'] = cars_df['price'].replace({'Ask For Price': None, ',': ''}, regex=True).astype(float)\n",
      "C:\\Users\\rober\\AppData\\Local\\Temp\\ipykernel_6416\\646543041.py:4: SettingWithCopyWarning: \n",
      "A value is trying to be set on a copy of a slice from a DataFrame.\n",
      "Try using .loc[row_indexer,col_indexer] = value instead\n",
      "\n",
      "See the caveats in the documentation: https://pandas.pydata.org/pandas-docs/stable/user_guide/indexing.html#returning-a-view-versus-a-copy\n",
      "  cars_df['kms_driven'] = cars_df['kms_driven'].replace({' kms': '', ',': ''}, regex=True).astype(float)\n"
     ]
    },
    {
     "data": {
      "text/html": [
       "<div>\n",
       "<style scoped>\n",
       "    .dataframe tbody tr th:only-of-type {\n",
       "        vertical-align: middle;\n",
       "    }\n",
       "\n",
       "    .dataframe tbody tr th {\n",
       "        vertical-align: top;\n",
       "    }\n",
       "\n",
       "    .dataframe thead th {\n",
       "        text-align: right;\n",
       "    }\n",
       "</style>\n",
       "<table border=\"1\" class=\"dataframe\">\n",
       "  <thead>\n",
       "    <tr style=\"text-align: right;\">\n",
       "      <th></th>\n",
       "      <th>name</th>\n",
       "      <th>year</th>\n",
       "      <th>price</th>\n",
       "      <th>kms_driven</th>\n",
       "      <th>fuel_type</th>\n",
       "    </tr>\n",
       "  </thead>\n",
       "  <tbody>\n",
       "    <tr>\n",
       "      <th>0</th>\n",
       "      <td>Hyundai Santro Xing XO eRLX Euro III</td>\n",
       "      <td>2007</td>\n",
       "      <td>80000.0</td>\n",
       "      <td>45000.0</td>\n",
       "      <td>Petrol</td>\n",
       "    </tr>\n",
       "    <tr>\n",
       "      <th>1</th>\n",
       "      <td>Mahindra Jeep CL550 MDI</td>\n",
       "      <td>2006</td>\n",
       "      <td>425000.0</td>\n",
       "      <td>40.0</td>\n",
       "      <td>Diesel</td>\n",
       "    </tr>\n",
       "    <tr>\n",
       "      <th>2</th>\n",
       "      <td>Maruti Suzuki Alto 800 Vxi</td>\n",
       "      <td>2018</td>\n",
       "      <td>NaN</td>\n",
       "      <td>22000.0</td>\n",
       "      <td>Petrol</td>\n",
       "    </tr>\n",
       "    <tr>\n",
       "      <th>3</th>\n",
       "      <td>Hyundai Grand i10 Magna 1.2 Kappa VTVT</td>\n",
       "      <td>2014</td>\n",
       "      <td>325000.0</td>\n",
       "      <td>28000.0</td>\n",
       "      <td>Petrol</td>\n",
       "    </tr>\n",
       "    <tr>\n",
       "      <th>4</th>\n",
       "      <td>Ford EcoSport Titanium 1.5L TDCi</td>\n",
       "      <td>2014</td>\n",
       "      <td>575000.0</td>\n",
       "      <td>36000.0</td>\n",
       "      <td>Diesel</td>\n",
       "    </tr>\n",
       "  </tbody>\n",
       "</table>\n",
       "</div>"
      ],
      "text/plain": [
       "                                     name  year     price  kms_driven  \\\n",
       "0    Hyundai Santro Xing XO eRLX Euro III  2007   80000.0     45000.0   \n",
       "1                 Mahindra Jeep CL550 MDI  2006  425000.0        40.0   \n",
       "2              Maruti Suzuki Alto 800 Vxi  2018       NaN     22000.0   \n",
       "3  Hyundai Grand i10 Magna 1.2 Kappa VTVT  2014  325000.0     28000.0   \n",
       "4        Ford EcoSport Titanium 1.5L TDCi  2014  575000.0     36000.0   \n",
       "\n",
       "  fuel_type  \n",
       "0    Petrol  \n",
       "1    Diesel  \n",
       "2    Petrol  \n",
       "3    Petrol  \n",
       "4    Diesel  "
      ]
     },
     "execution_count": 47,
     "metadata": {},
     "output_type": "execute_result"
    }
   ],
   "source": [
    "dataset.columns = ['name', 'year', 'price', 'kms_driven', 'fuel_type']\n",
    "cars_df = dataset.dropna()\n",
    "cars_df['price'] = cars_df['price'].replace({'Ask For Price': None, ',': ''}, regex=True).astype(float)\n",
    "cars_df['kms_driven'] = cars_df['kms_driven'].replace({' kms': '', ',': ''}, regex=True).astype(float)\n",
    "cars_df.head()"
   ]
  },
  {
   "cell_type": "code",
   "execution_count": null,
   "metadata": {},
   "outputs": [
    {
     "name": "stderr",
     "output_type": "stream",
     "text": [
      "C:\\Users\\rober\\AppData\\Local\\Temp\\ipykernel_6416\\2530867329.py:1: SettingWithCopyWarning: \n",
      "A value is trying to be set on a copy of a slice from a DataFrame.\n",
      "Try using .loc[row_indexer,col_indexer] = value instead\n",
      "\n",
      "See the caveats in the documentation: https://pandas.pydata.org/pandas-docs/stable/user_guide/indexing.html#returning-a-view-versus-a-copy\n",
      "  cars_df['price'] = cars_df['price'].replace({'Ask For Price': None})\n",
      "C:\\Users\\rober\\AppData\\Local\\Temp\\ipykernel_6416\\2530867329.py:3: SettingWithCopyWarning: \n",
      "A value is trying to be set on a copy of a slice from a DataFrame.\n",
      "Try using .loc[row_indexer,col_indexer] = value instead\n",
      "\n",
      "See the caveats in the documentation: https://pandas.pydata.org/pandas-docs/stable/user_guide/indexing.html#returning-a-view-versus-a-copy\n",
      "  cars_df['price'] = cars_df['price'].replace({'[₹, ]': ''}, regex=True).astype(float)\n",
      "C:\\Users\\rober\\AppData\\Local\\Temp\\ipykernel_6416\\2530867329.py:5: SettingWithCopyWarning: \n",
      "A value is trying to be set on a copy of a slice from a DataFrame.\n",
      "Try using .loc[row_indexer,col_indexer] = value instead\n",
      "\n",
      "See the caveats in the documentation: https://pandas.pydata.org/pandas-docs/stable/user_guide/indexing.html#returning-a-view-versus-a-copy\n",
      "  cars_df['kms_driven'] = cars_df['kms_driven'].replace({'[ kms]': ''}, regex=True).replace({'[,]': ''}, regex=True).astype(float)\n"
     ]
    },
    {
     "data": {
      "text/html": [
       "<div>\n",
       "<style scoped>\n",
       "    .dataframe tbody tr th:only-of-type {\n",
       "        vertical-align: middle;\n",
       "    }\n",
       "\n",
       "    .dataframe tbody tr th {\n",
       "        vertical-align: top;\n",
       "    }\n",
       "\n",
       "    .dataframe thead th {\n",
       "        text-align: right;\n",
       "    }\n",
       "</style>\n",
       "<table border=\"1\" class=\"dataframe\">\n",
       "  <thead>\n",
       "    <tr style=\"text-align: right;\">\n",
       "      <th></th>\n",
       "      <th>name</th>\n",
       "      <th>year</th>\n",
       "      <th>price</th>\n",
       "      <th>kms_driven</th>\n",
       "      <th>fuel_type</th>\n",
       "    </tr>\n",
       "  </thead>\n",
       "  <tbody>\n",
       "    <tr>\n",
       "      <th>0</th>\n",
       "      <td>Hyundai Santro Xing XO eRLX Euro III</td>\n",
       "      <td>2007</td>\n",
       "      <td>80000.0</td>\n",
       "      <td>45000.0</td>\n",
       "      <td>Petrol</td>\n",
       "    </tr>\n",
       "    <tr>\n",
       "      <th>1</th>\n",
       "      <td>Mahindra Jeep CL550 MDI</td>\n",
       "      <td>2006</td>\n",
       "      <td>425000.0</td>\n",
       "      <td>40.0</td>\n",
       "      <td>Diesel</td>\n",
       "    </tr>\n",
       "    <tr>\n",
       "      <th>3</th>\n",
       "      <td>Hyundai Grand i10 Magna 1.2 Kappa VTVT</td>\n",
       "      <td>2014</td>\n",
       "      <td>325000.0</td>\n",
       "      <td>28000.0</td>\n",
       "      <td>Petrol</td>\n",
       "    </tr>\n",
       "    <tr>\n",
       "      <th>4</th>\n",
       "      <td>Ford EcoSport Titanium 1.5L TDCi</td>\n",
       "      <td>2014</td>\n",
       "      <td>575000.0</td>\n",
       "      <td>36000.0</td>\n",
       "      <td>Diesel</td>\n",
       "    </tr>\n",
       "    <tr>\n",
       "      <th>6</th>\n",
       "      <td>Ford Figo</td>\n",
       "      <td>2012</td>\n",
       "      <td>175000.0</td>\n",
       "      <td>41000.0</td>\n",
       "      <td>Diesel</td>\n",
       "    </tr>\n",
       "  </tbody>\n",
       "</table>\n",
       "</div>"
      ],
      "text/plain": [
       "                                     name  year     price  kms_driven  \\\n",
       "0    Hyundai Santro Xing XO eRLX Euro III  2007   80000.0     45000.0   \n",
       "1                 Mahindra Jeep CL550 MDI  2006  425000.0        40.0   \n",
       "3  Hyundai Grand i10 Magna 1.2 Kappa VTVT  2014  325000.0     28000.0   \n",
       "4        Ford EcoSport Titanium 1.5L TDCi  2014  575000.0     36000.0   \n",
       "6                               Ford Figo  2012  175000.0     41000.0   \n",
       "\n",
       "  fuel_type  \n",
       "0    Petrol  \n",
       "1    Diesel  \n",
       "3    Petrol  \n",
       "4    Diesel  \n",
       "6    Diesel  "
      ]
     },
     "execution_count": 48,
     "metadata": {},
     "output_type": "execute_result"
    }
   ],
   "source": [
    "cars_df['price'] = cars_df['price'].replace({'Ask For Price': None})\n",
    "\n",
    "cars_df['price'] = cars_df['price'].replace({'[₹, ]': ''}, regex=True).astype(float)\n",
    "\n",
    "cars_df['kms_driven'] = cars_df['kms_driven'].replace({'[ kms]': ''}, regex=True).replace({'[,]': ''}, regex=True).astype(float)\n",
    "\n",
    "cleaned_cars_df = cars_df.dropna()\n",
    "\n",
    "cleaned_cars_df.head()"
   ]
  },
  {
   "cell_type": "code",
   "execution_count": null,
   "metadata": {},
   "outputs": [
    {
     "name": "stdout",
     "output_type": "stream",
     "text": [
      "<class 'pandas.core.frame.DataFrame'>\n",
      "Index: 837 entries, 0 to 889\n",
      "Data columns (total 5 columns):\n",
      " #   Column      Non-Null Count  Dtype  \n",
      "---  ------      --------------  -----  \n",
      " 0   name        837 non-null    object \n",
      " 1   year        837 non-null    object \n",
      " 2   price       816 non-null    float64\n",
      " 3   kms_driven  837 non-null    float64\n",
      " 4   fuel_type   837 non-null    object \n",
      "dtypes: float64(2), object(3)\n",
      "memory usage: 39.2+ KB\n"
     ]
    }
   ],
   "source": [
    "cars_df.info()"
   ]
  },
  {
   "cell_type": "code",
   "execution_count": null,
   "metadata": {},
   "outputs": [
    {
     "data": {
      "text/plain": [
       "array([4.50000e+04, 4.00000e+01, 2.20000e+04, 2.80000e+04, 3.60000e+04,\n",
       "       5.90000e+04, 4.10000e+04, 2.50000e+04, 2.45300e+04, 6.00000e+04,\n",
       "       3.00000e+04, 3.20000e+04, 4.86600e+04, 4.00000e+03, 1.69340e+04,\n",
       "       4.30000e+04, 3.55500e+04, 3.95220e+04, 3.90000e+04, 5.50000e+04,\n",
       "       7.20000e+04, 1.59750e+04, 7.00000e+04, 2.34520e+04, 3.55220e+04,\n",
       "       4.85080e+04, 1.54870e+04, 8.20000e+04, 2.00000e+04, 6.80000e+04,\n",
       "       3.80000e+04, 2.70000e+04, 3.30000e+04, 4.60000e+04, 1.60000e+04,\n",
       "       4.70000e+04, 3.50000e+04, 3.08740e+04, 1.50000e+04, 2.96850e+04,\n",
       "       1.30000e+05, 1.90000e+04, 5.40000e+04, 1.30000e+04, 3.82000e+04,\n",
       "       5.00000e+04, 1.35000e+04, 3.60000e+03, 4.58630e+04, 6.05000e+04,\n",
       "       1.25000e+04, 1.80000e+04, 1.33490e+04, 2.90000e+04, 4.40000e+04,\n",
       "       4.20000e+04, 1.40000e+04, 4.90000e+04, 3.62000e+04, 5.10000e+04,\n",
       "       1.04000e+05, 3.33330e+04, 3.36000e+04, 5.60000e+03, 7.50000e+03,\n",
       "       2.43300e+04, 6.54800e+04, 2.80280e+04, 2.00000e+05, 9.90000e+04,\n",
       "       2.80000e+03, 2.10000e+04, 1.10000e+04, 6.60000e+04, 3.00000e+03,\n",
       "       7.00000e+03, 3.85000e+04, 3.72000e+04, 4.32000e+04, 2.48000e+04,\n",
       "       4.58720e+04, 4.00000e+04, 1.14000e+04, 9.72000e+04, 5.20000e+04,\n",
       "       3.10000e+04, 1.75430e+05, 3.70000e+04, 6.50000e+04, 3.35000e+03,\n",
       "       7.50000e+04, 6.20000e+04, 7.30000e+04, 2.20000e+03, 5.48700e+04,\n",
       "       3.45800e+04, 9.70000e+04, 6.00000e+01, 8.02000e+04, 3.20000e+03,\n",
       "       0.00000e+00, 5.00000e+03, 5.88000e+02, 7.12000e+04, 1.75400e+05,\n",
       "       9.30000e+03, 5.67580e+04, 1.00000e+04, 5.64500e+04, 5.60000e+04,\n",
       "       3.27000e+04, 9.00000e+03, 7.30000e+01, 1.60000e+05, 8.40000e+04,\n",
       "       5.85590e+04, 5.70000e+04, 1.70000e+05, 8.00000e+04, 6.82100e+03,\n",
       "       2.30000e+04, 3.40000e+04, 1.80000e+03, 4.00000e+05, 4.80000e+04,\n",
       "       9.00000e+04, 1.20000e+04, 6.99000e+04, 1.66000e+05, 1.22000e+02,\n",
       "       2.40000e+04, 3.64690e+04, 7.80000e+03, 2.46950e+04, 1.51410e+04,\n",
       "       5.99100e+04, 1.00000e+05, 4.50000e+03, 1.29000e+05, 3.00000e+02,\n",
       "       1.31000e+05, 1.11111e+05, 5.94660e+04, 2.55000e+04, 4.40050e+04,\n",
       "       2.11000e+03, 4.32220e+04, 1.00200e+05, 6.50000e+01, 1.40000e+05,\n",
       "       1.03553e+05, 5.80000e+04, 1.20000e+05, 4.98000e+04, 1.00000e+02,\n",
       "       8.18760e+04, 6.02000e+03, 5.57000e+04, 1.85000e+04, 1.80000e+05,\n",
       "       5.30000e+04, 3.55000e+04, 2.21340e+04, 1.00000e+03, 8.50000e+03,\n",
       "       8.70000e+04, 6.00000e+03, 1.55740e+04, 8.00000e+03, 5.58000e+04,\n",
       "       5.64000e+04, 7.21600e+04, 1.15000e+04, 1.33000e+05, 2.00000e+03,\n",
       "       8.80000e+04, 6.54220e+04, 1.17000e+05, 1.50000e+05, 1.07500e+04,\n",
       "       6.80000e+03, 5.00000e+00, 9.80000e+03, 5.79230e+04, 3.02010e+04,\n",
       "       6.20000e+03, 3.75180e+04, 2.46520e+04, 3.83000e+02, 9.50000e+04,\n",
       "       3.52800e+03, 5.25000e+04, 4.79000e+04, 5.28000e+04, 1.95000e+05,\n",
       "       4.80080e+04, 4.82470e+04, 9.40000e+03, 6.40000e+04, 2.13700e+03,\n",
       "       1.05440e+04, 4.95000e+04, 1.47000e+05, 9.00010e+04, 4.80060e+04,\n",
       "       7.40000e+04, 8.50000e+04, 2.95000e+04, 3.97000e+04, 6.70000e+04,\n",
       "       1.93360e+04, 6.01050e+04, 4.59330e+04, 1.02563e+05, 2.86000e+04,\n",
       "       4.18000e+04, 1.16000e+05, 4.25900e+04, 7.40000e+03, 5.45000e+04,\n",
       "       7.60000e+04, 1.15230e+04, 3.86000e+04, 9.55000e+04, 3.74580e+04,\n",
       "       8.59600e+04, 1.25160e+04, 3.06000e+04, 2.55000e+03, 6.25000e+04,\n",
       "       6.90000e+04, 2.84000e+04, 6.84850e+04, 3.50000e+03, 8.54550e+04,\n",
       "       6.30000e+04, 1.60000e+03, 7.70000e+04, 2.65000e+04, 2.87500e+03,\n",
       "       1.39000e+04, 1.50000e+03, 2.45000e+03, 1.62500e+03, 3.34000e+04,\n",
       "       6.01230e+04, 3.89000e+04, 1.37495e+05, 9.12000e+04, 1.46000e+05,\n",
       "       1.00800e+05, 2.10000e+03, 2.50000e+03, 1.32000e+05])"
      ]
     },
     "execution_count": 50,
     "metadata": {},
     "output_type": "execute_result"
    }
   ],
   "source": [
    "unique_kms_values = cars_df['kms_driven'].unique()\n",
    "\n",
    "unique_kms_values"
   ]
  },
  {
   "cell_type": "code",
   "execution_count": null,
   "metadata": {},
   "outputs": [
    {
     "name": "stderr",
     "output_type": "stream",
     "text": [
      "C:\\Users\\rober\\AppData\\Local\\Temp\\ipykernel_6416\\2586689114.py:1: SettingWithCopyWarning: \n",
      "A value is trying to be set on a copy of a slice from a DataFrame.\n",
      "Try using .loc[row_indexer,col_indexer] = value instead\n",
      "\n",
      "See the caveats in the documentation: https://pandas.pydata.org/pandas-docs/stable/user_guide/indexing.html#returning-a-view-versus-a-copy\n",
      "  cars_df['kms_driven'] = cars_df['kms_driven'].replace({' kms': '', ' km': '', '[,]': ''}, regex=True).astype(float)\n",
      "C:\\Users\\rober\\AppData\\Local\\Temp\\ipykernel_6416\\2586689114.py:4: SettingWithCopyWarning: \n",
      "A value is trying to be set on a copy of a slice from a DataFrame.\n",
      "Try using .loc[row_indexer,col_indexer] = value instead\n",
      "\n",
      "See the caveats in the documentation: https://pandas.pydata.org/pandas-docs/stable/user_guide/indexing.html#returning-a-view-versus-a-copy\n",
      "  cars_df['price'] = cars_df['price'].replace({'[₹, ]': ''}, regex=True).astype(float)\n"
     ]
    },
    {
     "data": {
      "text/html": [
       "<div>\n",
       "<style scoped>\n",
       "    .dataframe tbody tr th:only-of-type {\n",
       "        vertical-align: middle;\n",
       "    }\n",
       "\n",
       "    .dataframe tbody tr th {\n",
       "        vertical-align: top;\n",
       "    }\n",
       "\n",
       "    .dataframe thead th {\n",
       "        text-align: right;\n",
       "    }\n",
       "</style>\n",
       "<table border=\"1\" class=\"dataframe\">\n",
       "  <thead>\n",
       "    <tr style=\"text-align: right;\">\n",
       "      <th></th>\n",
       "      <th>name</th>\n",
       "      <th>year</th>\n",
       "      <th>price</th>\n",
       "      <th>kms_driven</th>\n",
       "      <th>fuel_type</th>\n",
       "    </tr>\n",
       "  </thead>\n",
       "  <tbody>\n",
       "    <tr>\n",
       "      <th>0</th>\n",
       "      <td>Hyundai Santro Xing XO eRLX Euro III</td>\n",
       "      <td>2007</td>\n",
       "      <td>80000.0</td>\n",
       "      <td>45000.0</td>\n",
       "      <td>Petrol</td>\n",
       "    </tr>\n",
       "    <tr>\n",
       "      <th>1</th>\n",
       "      <td>Mahindra Jeep CL550 MDI</td>\n",
       "      <td>2006</td>\n",
       "      <td>425000.0</td>\n",
       "      <td>40.0</td>\n",
       "      <td>Diesel</td>\n",
       "    </tr>\n",
       "    <tr>\n",
       "      <th>3</th>\n",
       "      <td>Hyundai Grand i10 Magna 1.2 Kappa VTVT</td>\n",
       "      <td>2014</td>\n",
       "      <td>325000.0</td>\n",
       "      <td>28000.0</td>\n",
       "      <td>Petrol</td>\n",
       "    </tr>\n",
       "    <tr>\n",
       "      <th>4</th>\n",
       "      <td>Ford EcoSport Titanium 1.5L TDCi</td>\n",
       "      <td>2014</td>\n",
       "      <td>575000.0</td>\n",
       "      <td>36000.0</td>\n",
       "      <td>Diesel</td>\n",
       "    </tr>\n",
       "    <tr>\n",
       "      <th>6</th>\n",
       "      <td>Ford Figo</td>\n",
       "      <td>2012</td>\n",
       "      <td>175000.0</td>\n",
       "      <td>41000.0</td>\n",
       "      <td>Diesel</td>\n",
       "    </tr>\n",
       "  </tbody>\n",
       "</table>\n",
       "</div>"
      ],
      "text/plain": [
       "                                     name  year     price  kms_driven  \\\n",
       "0    Hyundai Santro Xing XO eRLX Euro III  2007   80000.0     45000.0   \n",
       "1                 Mahindra Jeep CL550 MDI  2006  425000.0        40.0   \n",
       "3  Hyundai Grand i10 Magna 1.2 Kappa VTVT  2014  325000.0     28000.0   \n",
       "4        Ford EcoSport Titanium 1.5L TDCi  2014  575000.0     36000.0   \n",
       "6                               Ford Figo  2012  175000.0     41000.0   \n",
       "\n",
       "  fuel_type  \n",
       "0    Petrol  \n",
       "1    Diesel  \n",
       "3    Petrol  \n",
       "4    Diesel  \n",
       "6    Diesel  "
      ]
     },
     "execution_count": 51,
     "metadata": {},
     "output_type": "execute_result"
    }
   ],
   "source": [
    "cars_df['kms_driven'] = cars_df['kms_driven'].replace({' kms': '', ' km': '', '[,]': ''}, regex=True).astype(float)\n",
    "\n",
    "\n",
    "cars_df['price'] = cars_df['price'].replace({'[₹, ]': ''}, regex=True).astype(float)\n",
    "\n",
    "\n",
    "cleaned_cars_df = cars_df.dropna()\n",
    "\n",
    "\n",
    "cleaned_cars_df.head()"
   ]
  },
  {
   "cell_type": "code",
   "execution_count": null,
   "metadata": {},
   "outputs": [
    {
     "data": {
      "text/plain": [
       "array([4.50000e+04, 4.00000e+01, 2.20000e+04, 2.80000e+04, 3.60000e+04,\n",
       "       5.90000e+04, 4.10000e+04, 2.50000e+04, 2.45300e+04, 6.00000e+04,\n",
       "       3.00000e+04, 3.20000e+04, 4.86600e+04, 4.00000e+03, 1.69340e+04,\n",
       "       4.30000e+04, 3.55500e+04, 3.95220e+04, 3.90000e+04, 5.50000e+04,\n",
       "       7.20000e+04, 1.59750e+04, 7.00000e+04, 2.34520e+04, 3.55220e+04,\n",
       "       4.85080e+04, 1.54870e+04, 8.20000e+04, 2.00000e+04, 6.80000e+04,\n",
       "       3.80000e+04, 2.70000e+04, 3.30000e+04, 4.60000e+04, 1.60000e+04,\n",
       "       4.70000e+04, 3.50000e+04, 3.08740e+04, 1.50000e+04, 2.96850e+04,\n",
       "       1.30000e+05, 1.90000e+04, 5.40000e+04, 1.30000e+04, 3.82000e+04,\n",
       "       5.00000e+04, 1.35000e+04, 3.60000e+03, 4.58630e+04, 6.05000e+04,\n",
       "       1.25000e+04, 1.80000e+04, 1.33490e+04, 2.90000e+04, 4.40000e+04,\n",
       "       4.20000e+04, 1.40000e+04, 4.90000e+04, 3.62000e+04, 5.10000e+04,\n",
       "       1.04000e+05, 3.33330e+04, 3.36000e+04, 5.60000e+03, 7.50000e+03,\n",
       "       2.43300e+04, 6.54800e+04, 2.80280e+04, 2.00000e+05, 9.90000e+04,\n",
       "       2.80000e+03, 2.10000e+04, 1.10000e+04, 6.60000e+04, 3.00000e+03,\n",
       "       7.00000e+03, 3.85000e+04, 3.72000e+04, 4.32000e+04, 2.48000e+04,\n",
       "       4.58720e+04, 4.00000e+04, 1.14000e+04, 9.72000e+04, 5.20000e+04,\n",
       "       3.10000e+04, 1.75430e+05, 3.70000e+04, 6.50000e+04, 3.35000e+03,\n",
       "       7.50000e+04, 6.20000e+04, 7.30000e+04, 2.20000e+03, 5.48700e+04,\n",
       "       3.45800e+04, 9.70000e+04, 6.00000e+01, 8.02000e+04, 3.20000e+03,\n",
       "       0.00000e+00, 5.00000e+03, 5.88000e+02, 7.12000e+04, 1.75400e+05,\n",
       "       9.30000e+03, 5.67580e+04, 1.00000e+04, 5.64500e+04, 5.60000e+04,\n",
       "       3.27000e+04, 9.00000e+03, 7.30000e+01, 1.60000e+05, 8.40000e+04,\n",
       "       5.85590e+04, 5.70000e+04, 1.70000e+05, 8.00000e+04, 6.82100e+03,\n",
       "       2.30000e+04, 3.40000e+04, 1.80000e+03, 4.00000e+05, 4.80000e+04,\n",
       "       9.00000e+04, 1.20000e+04, 6.99000e+04, 1.66000e+05, 1.22000e+02,\n",
       "       2.40000e+04, 3.64690e+04, 7.80000e+03, 2.46950e+04, 1.51410e+04,\n",
       "       5.99100e+04, 1.00000e+05, 4.50000e+03, 1.29000e+05, 3.00000e+02,\n",
       "       1.31000e+05, 1.11111e+05, 5.94660e+04, 2.55000e+04, 4.40050e+04,\n",
       "       2.11000e+03, 4.32220e+04, 1.00200e+05, 6.50000e+01, 1.40000e+05,\n",
       "       1.03553e+05, 5.80000e+04, 1.20000e+05, 4.98000e+04, 1.00000e+02,\n",
       "       8.18760e+04, 6.02000e+03, 5.57000e+04, 1.85000e+04, 1.80000e+05,\n",
       "       5.30000e+04, 3.55000e+04, 2.21340e+04, 1.00000e+03, 8.50000e+03,\n",
       "       8.70000e+04, 6.00000e+03, 1.55740e+04, 8.00000e+03, 5.58000e+04,\n",
       "       5.64000e+04, 7.21600e+04, 1.15000e+04, 1.33000e+05, 2.00000e+03,\n",
       "       8.80000e+04, 6.54220e+04, 1.17000e+05, 1.50000e+05, 1.07500e+04,\n",
       "       6.80000e+03, 5.00000e+00, 9.80000e+03, 5.79230e+04, 3.02010e+04,\n",
       "       6.20000e+03, 3.75180e+04, 2.46520e+04, 3.83000e+02, 9.50000e+04,\n",
       "       3.52800e+03, 5.25000e+04, 4.79000e+04, 5.28000e+04, 1.95000e+05,\n",
       "       4.80080e+04, 4.82470e+04, 9.40000e+03, 6.40000e+04, 2.13700e+03,\n",
       "       1.05440e+04, 4.95000e+04, 1.47000e+05, 9.00010e+04, 4.80060e+04,\n",
       "       7.40000e+04, 8.50000e+04, 2.95000e+04, 3.97000e+04, 6.70000e+04,\n",
       "       1.93360e+04, 6.01050e+04, 4.59330e+04, 1.02563e+05, 2.86000e+04,\n",
       "       4.18000e+04, 1.16000e+05, 4.25900e+04, 7.40000e+03, 5.45000e+04,\n",
       "       7.60000e+04, 1.15230e+04, 3.86000e+04, 9.55000e+04, 3.74580e+04,\n",
       "       8.59600e+04, 1.25160e+04, 3.06000e+04, 2.55000e+03, 6.25000e+04,\n",
       "       6.90000e+04, 2.84000e+04, 6.84850e+04, 3.50000e+03, 8.54550e+04,\n",
       "       6.30000e+04, 1.60000e+03, 7.70000e+04, 2.65000e+04, 2.87500e+03,\n",
       "       1.39000e+04, 1.50000e+03, 2.45000e+03, 1.62500e+03, 3.34000e+04,\n",
       "       6.01230e+04, 3.89000e+04, 1.37495e+05, 9.12000e+04, 1.46000e+05,\n",
       "       1.00800e+05, 2.10000e+03, 2.50000e+03, 1.32000e+05])"
      ]
     },
     "execution_count": 52,
     "metadata": {},
     "output_type": "execute_result"
    }
   ],
   "source": [
    "unique_kms_values = cars_df['kms_driven'].unique()\n",
    "\n",
    "unique_kms_values"
   ]
  },
  {
   "cell_type": "code",
   "execution_count": null,
   "metadata": {},
   "outputs": [
    {
     "ename": "ValueError",
     "evalue": "Input y contains NaN.",
     "output_type": "error",
     "traceback": [
      "\u001b[1;31m---------------------------------------------------------------------------\u001b[0m",
      "\u001b[1;31mValueError\u001b[0m                                Traceback (most recent call last)",
      "Cell \u001b[1;32mIn[54], line 8\u001b[0m\n\u001b[0;32m      6\u001b[0m Y \u001b[38;5;241m=\u001b[39m cars_df[\u001b[38;5;124m'\u001b[39m\u001b[38;5;124mprice\u001b[39m\u001b[38;5;124m'\u001b[39m]\n\u001b[0;32m      7\u001b[0m model \u001b[38;5;241m=\u001b[39m LinearRegression()\n\u001b[1;32m----> 8\u001b[0m \u001b[43mmodel\u001b[49m\u001b[38;5;241;43m.\u001b[39;49m\u001b[43mfit\u001b[49m\u001b[43m(\u001b[49m\u001b[43mX\u001b[49m\u001b[43m,\u001b[49m\u001b[43m \u001b[49m\u001b[43mY\u001b[49m\u001b[43m)\u001b[49m\n\u001b[0;32m      9\u001b[0m predictions \u001b[38;5;241m=\u001b[39m model\u001b[38;5;241m.\u001b[39mpredict(X)\n\u001b[0;32m     10\u001b[0m plt\u001b[38;5;241m.\u001b[39mscatter(X, Y, color\u001b[38;5;241m=\u001b[39m\u001b[38;5;124m'\u001b[39m\u001b[38;5;124mblue\u001b[39m\u001b[38;5;124m'\u001b[39m, label\u001b[38;5;241m=\u001b[39m\u001b[38;5;124m'\u001b[39m\u001b[38;5;124mActual Prices\u001b[39m\u001b[38;5;124m'\u001b[39m)\n",
      "File \u001b[1;32mc:\\Users\\rober\\AppData\\Local\\Programs\\Python\\Python312\\Lib\\site-packages\\sklearn\\base.py:1473\u001b[0m, in \u001b[0;36m_fit_context.<locals>.decorator.<locals>.wrapper\u001b[1;34m(estimator, *args, **kwargs)\u001b[0m\n\u001b[0;32m   1466\u001b[0m     estimator\u001b[38;5;241m.\u001b[39m_validate_params()\n\u001b[0;32m   1468\u001b[0m \u001b[38;5;28;01mwith\u001b[39;00m config_context(\n\u001b[0;32m   1469\u001b[0m     skip_parameter_validation\u001b[38;5;241m=\u001b[39m(\n\u001b[0;32m   1470\u001b[0m         prefer_skip_nested_validation \u001b[38;5;129;01mor\u001b[39;00m global_skip_validation\n\u001b[0;32m   1471\u001b[0m     )\n\u001b[0;32m   1472\u001b[0m ):\n\u001b[1;32m-> 1473\u001b[0m     \u001b[38;5;28;01mreturn\u001b[39;00m \u001b[43mfit_method\u001b[49m\u001b[43m(\u001b[49m\u001b[43mestimator\u001b[49m\u001b[43m,\u001b[49m\u001b[43m \u001b[49m\u001b[38;5;241;43m*\u001b[39;49m\u001b[43margs\u001b[49m\u001b[43m,\u001b[49m\u001b[43m \u001b[49m\u001b[38;5;241;43m*\u001b[39;49m\u001b[38;5;241;43m*\u001b[39;49m\u001b[43mkwargs\u001b[49m\u001b[43m)\u001b[49m\n",
      "File \u001b[1;32mc:\\Users\\rober\\AppData\\Local\\Programs\\Python\\Python312\\Lib\\site-packages\\sklearn\\linear_model\\_base.py:609\u001b[0m, in \u001b[0;36mLinearRegression.fit\u001b[1;34m(self, X, y, sample_weight)\u001b[0m\n\u001b[0;32m    605\u001b[0m n_jobs_ \u001b[38;5;241m=\u001b[39m \u001b[38;5;28mself\u001b[39m\u001b[38;5;241m.\u001b[39mn_jobs\n\u001b[0;32m    607\u001b[0m accept_sparse \u001b[38;5;241m=\u001b[39m \u001b[38;5;28;01mFalse\u001b[39;00m \u001b[38;5;28;01mif\u001b[39;00m \u001b[38;5;28mself\u001b[39m\u001b[38;5;241m.\u001b[39mpositive \u001b[38;5;28;01melse\u001b[39;00m [\u001b[38;5;124m\"\u001b[39m\u001b[38;5;124mcsr\u001b[39m\u001b[38;5;124m\"\u001b[39m, \u001b[38;5;124m\"\u001b[39m\u001b[38;5;124mcsc\u001b[39m\u001b[38;5;124m\"\u001b[39m, \u001b[38;5;124m\"\u001b[39m\u001b[38;5;124mcoo\u001b[39m\u001b[38;5;124m\"\u001b[39m]\n\u001b[1;32m--> 609\u001b[0m X, y \u001b[38;5;241m=\u001b[39m \u001b[38;5;28;43mself\u001b[39;49m\u001b[38;5;241;43m.\u001b[39;49m\u001b[43m_validate_data\u001b[49m\u001b[43m(\u001b[49m\n\u001b[0;32m    610\u001b[0m \u001b[43m    \u001b[49m\u001b[43mX\u001b[49m\u001b[43m,\u001b[49m\n\u001b[0;32m    611\u001b[0m \u001b[43m    \u001b[49m\u001b[43my\u001b[49m\u001b[43m,\u001b[49m\n\u001b[0;32m    612\u001b[0m \u001b[43m    \u001b[49m\u001b[43maccept_sparse\u001b[49m\u001b[38;5;241;43m=\u001b[39;49m\u001b[43maccept_sparse\u001b[49m\u001b[43m,\u001b[49m\n\u001b[0;32m    613\u001b[0m \u001b[43m    \u001b[49m\u001b[43my_numeric\u001b[49m\u001b[38;5;241;43m=\u001b[39;49m\u001b[38;5;28;43;01mTrue\u001b[39;49;00m\u001b[43m,\u001b[49m\n\u001b[0;32m    614\u001b[0m \u001b[43m    \u001b[49m\u001b[43mmulti_output\u001b[49m\u001b[38;5;241;43m=\u001b[39;49m\u001b[38;5;28;43;01mTrue\u001b[39;49;00m\u001b[43m,\u001b[49m\n\u001b[0;32m    615\u001b[0m \u001b[43m    \u001b[49m\u001b[43mforce_writeable\u001b[49m\u001b[38;5;241;43m=\u001b[39;49m\u001b[38;5;28;43;01mTrue\u001b[39;49;00m\u001b[43m,\u001b[49m\n\u001b[0;32m    616\u001b[0m \u001b[43m\u001b[49m\u001b[43m)\u001b[49m\n\u001b[0;32m    618\u001b[0m has_sw \u001b[38;5;241m=\u001b[39m sample_weight \u001b[38;5;129;01mis\u001b[39;00m \u001b[38;5;129;01mnot\u001b[39;00m \u001b[38;5;28;01mNone\u001b[39;00m\n\u001b[0;32m    619\u001b[0m \u001b[38;5;28;01mif\u001b[39;00m has_sw:\n",
      "File \u001b[1;32mc:\\Users\\rober\\AppData\\Local\\Programs\\Python\\Python312\\Lib\\site-packages\\sklearn\\base.py:650\u001b[0m, in \u001b[0;36mBaseEstimator._validate_data\u001b[1;34m(self, X, y, reset, validate_separately, cast_to_ndarray, **check_params)\u001b[0m\n\u001b[0;32m    648\u001b[0m         y \u001b[38;5;241m=\u001b[39m check_array(y, input_name\u001b[38;5;241m=\u001b[39m\u001b[38;5;124m\"\u001b[39m\u001b[38;5;124my\u001b[39m\u001b[38;5;124m\"\u001b[39m, \u001b[38;5;241m*\u001b[39m\u001b[38;5;241m*\u001b[39mcheck_y_params)\n\u001b[0;32m    649\u001b[0m     \u001b[38;5;28;01melse\u001b[39;00m:\n\u001b[1;32m--> 650\u001b[0m         X, y \u001b[38;5;241m=\u001b[39m \u001b[43mcheck_X_y\u001b[49m\u001b[43m(\u001b[49m\u001b[43mX\u001b[49m\u001b[43m,\u001b[49m\u001b[43m \u001b[49m\u001b[43my\u001b[49m\u001b[43m,\u001b[49m\u001b[43m \u001b[49m\u001b[38;5;241;43m*\u001b[39;49m\u001b[38;5;241;43m*\u001b[39;49m\u001b[43mcheck_params\u001b[49m\u001b[43m)\u001b[49m\n\u001b[0;32m    651\u001b[0m     out \u001b[38;5;241m=\u001b[39m X, y\n\u001b[0;32m    653\u001b[0m \u001b[38;5;28;01mif\u001b[39;00m \u001b[38;5;129;01mnot\u001b[39;00m no_val_X \u001b[38;5;129;01mand\u001b[39;00m check_params\u001b[38;5;241m.\u001b[39mget(\u001b[38;5;124m\"\u001b[39m\u001b[38;5;124mensure_2d\u001b[39m\u001b[38;5;124m\"\u001b[39m, \u001b[38;5;28;01mTrue\u001b[39;00m):\n",
      "File \u001b[1;32mc:\\Users\\rober\\AppData\\Local\\Programs\\Python\\Python312\\Lib\\site-packages\\sklearn\\utils\\validation.py:1318\u001b[0m, in \u001b[0;36mcheck_X_y\u001b[1;34m(X, y, accept_sparse, accept_large_sparse, dtype, order, copy, force_writeable, force_all_finite, ensure_2d, allow_nd, multi_output, ensure_min_samples, ensure_min_features, y_numeric, estimator)\u001b[0m\n\u001b[0;32m   1297\u001b[0m     \u001b[38;5;28;01mraise\u001b[39;00m \u001b[38;5;167;01mValueError\u001b[39;00m(\n\u001b[0;32m   1298\u001b[0m         \u001b[38;5;124mf\u001b[39m\u001b[38;5;124m\"\u001b[39m\u001b[38;5;132;01m{\u001b[39;00mestimator_name\u001b[38;5;132;01m}\u001b[39;00m\u001b[38;5;124m requires y to be passed, but the target y is None\u001b[39m\u001b[38;5;124m\"\u001b[39m\n\u001b[0;32m   1299\u001b[0m     )\n\u001b[0;32m   1301\u001b[0m X \u001b[38;5;241m=\u001b[39m check_array(\n\u001b[0;32m   1302\u001b[0m     X,\n\u001b[0;32m   1303\u001b[0m     accept_sparse\u001b[38;5;241m=\u001b[39maccept_sparse,\n\u001b[1;32m   (...)\u001b[0m\n\u001b[0;32m   1315\u001b[0m     input_name\u001b[38;5;241m=\u001b[39m\u001b[38;5;124m\"\u001b[39m\u001b[38;5;124mX\u001b[39m\u001b[38;5;124m\"\u001b[39m,\n\u001b[0;32m   1316\u001b[0m )\n\u001b[1;32m-> 1318\u001b[0m y \u001b[38;5;241m=\u001b[39m \u001b[43m_check_y\u001b[49m\u001b[43m(\u001b[49m\u001b[43my\u001b[49m\u001b[43m,\u001b[49m\u001b[43m \u001b[49m\u001b[43mmulti_output\u001b[49m\u001b[38;5;241;43m=\u001b[39;49m\u001b[43mmulti_output\u001b[49m\u001b[43m,\u001b[49m\u001b[43m \u001b[49m\u001b[43my_numeric\u001b[49m\u001b[38;5;241;43m=\u001b[39;49m\u001b[43my_numeric\u001b[49m\u001b[43m,\u001b[49m\u001b[43m \u001b[49m\u001b[43mestimator\u001b[49m\u001b[38;5;241;43m=\u001b[39;49m\u001b[43mestimator\u001b[49m\u001b[43m)\u001b[49m\n\u001b[0;32m   1320\u001b[0m check_consistent_length(X, y)\n\u001b[0;32m   1322\u001b[0m \u001b[38;5;28;01mreturn\u001b[39;00m X, y\n",
      "File \u001b[1;32mc:\\Users\\rober\\AppData\\Local\\Programs\\Python\\Python312\\Lib\\site-packages\\sklearn\\utils\\validation.py:1328\u001b[0m, in \u001b[0;36m_check_y\u001b[1;34m(y, multi_output, y_numeric, estimator)\u001b[0m\n\u001b[0;32m   1326\u001b[0m \u001b[38;5;250m\u001b[39m\u001b[38;5;124;03m\"\"\"Isolated part of check_X_y dedicated to y validation\"\"\"\u001b[39;00m\n\u001b[0;32m   1327\u001b[0m \u001b[38;5;28;01mif\u001b[39;00m multi_output:\n\u001b[1;32m-> 1328\u001b[0m     y \u001b[38;5;241m=\u001b[39m \u001b[43mcheck_array\u001b[49m\u001b[43m(\u001b[49m\n\u001b[0;32m   1329\u001b[0m \u001b[43m        \u001b[49m\u001b[43my\u001b[49m\u001b[43m,\u001b[49m\n\u001b[0;32m   1330\u001b[0m \u001b[43m        \u001b[49m\u001b[43maccept_sparse\u001b[49m\u001b[38;5;241;43m=\u001b[39;49m\u001b[38;5;124;43m\"\u001b[39;49m\u001b[38;5;124;43mcsr\u001b[39;49m\u001b[38;5;124;43m\"\u001b[39;49m\u001b[43m,\u001b[49m\n\u001b[0;32m   1331\u001b[0m \u001b[43m        \u001b[49m\u001b[43mforce_all_finite\u001b[49m\u001b[38;5;241;43m=\u001b[39;49m\u001b[38;5;28;43;01mTrue\u001b[39;49;00m\u001b[43m,\u001b[49m\n\u001b[0;32m   1332\u001b[0m \u001b[43m        \u001b[49m\u001b[43mensure_2d\u001b[49m\u001b[38;5;241;43m=\u001b[39;49m\u001b[38;5;28;43;01mFalse\u001b[39;49;00m\u001b[43m,\u001b[49m\n\u001b[0;32m   1333\u001b[0m \u001b[43m        \u001b[49m\u001b[43mdtype\u001b[49m\u001b[38;5;241;43m=\u001b[39;49m\u001b[38;5;28;43;01mNone\u001b[39;49;00m\u001b[43m,\u001b[49m\n\u001b[0;32m   1334\u001b[0m \u001b[43m        \u001b[49m\u001b[43minput_name\u001b[49m\u001b[38;5;241;43m=\u001b[39;49m\u001b[38;5;124;43m\"\u001b[39;49m\u001b[38;5;124;43my\u001b[39;49m\u001b[38;5;124;43m\"\u001b[39;49m\u001b[43m,\u001b[49m\n\u001b[0;32m   1335\u001b[0m \u001b[43m        \u001b[49m\u001b[43mestimator\u001b[49m\u001b[38;5;241;43m=\u001b[39;49m\u001b[43mestimator\u001b[49m\u001b[43m,\u001b[49m\n\u001b[0;32m   1336\u001b[0m \u001b[43m    \u001b[49m\u001b[43m)\u001b[49m\n\u001b[0;32m   1337\u001b[0m \u001b[38;5;28;01melse\u001b[39;00m:\n\u001b[0;32m   1338\u001b[0m     estimator_name \u001b[38;5;241m=\u001b[39m _check_estimator_name(estimator)\n",
      "File \u001b[1;32mc:\\Users\\rober\\AppData\\Local\\Programs\\Python\\Python312\\Lib\\site-packages\\sklearn\\utils\\validation.py:1064\u001b[0m, in \u001b[0;36mcheck_array\u001b[1;34m(array, accept_sparse, accept_large_sparse, dtype, order, copy, force_writeable, force_all_finite, ensure_2d, allow_nd, ensure_min_samples, ensure_min_features, estimator, input_name)\u001b[0m\n\u001b[0;32m   1058\u001b[0m     \u001b[38;5;28;01mraise\u001b[39;00m \u001b[38;5;167;01mValueError\u001b[39;00m(\n\u001b[0;32m   1059\u001b[0m         \u001b[38;5;124m\"\u001b[39m\u001b[38;5;124mFound array with dim \u001b[39m\u001b[38;5;132;01m%d\u001b[39;00m\u001b[38;5;124m. \u001b[39m\u001b[38;5;132;01m%s\u001b[39;00m\u001b[38;5;124m expected <= 2.\u001b[39m\u001b[38;5;124m\"\u001b[39m\n\u001b[0;32m   1060\u001b[0m         \u001b[38;5;241m%\u001b[39m (array\u001b[38;5;241m.\u001b[39mndim, estimator_name)\n\u001b[0;32m   1061\u001b[0m     )\n\u001b[0;32m   1063\u001b[0m \u001b[38;5;28;01mif\u001b[39;00m force_all_finite:\n\u001b[1;32m-> 1064\u001b[0m     \u001b[43m_assert_all_finite\u001b[49m\u001b[43m(\u001b[49m\n\u001b[0;32m   1065\u001b[0m \u001b[43m        \u001b[49m\u001b[43marray\u001b[49m\u001b[43m,\u001b[49m\n\u001b[0;32m   1066\u001b[0m \u001b[43m        \u001b[49m\u001b[43minput_name\u001b[49m\u001b[38;5;241;43m=\u001b[39;49m\u001b[43minput_name\u001b[49m\u001b[43m,\u001b[49m\n\u001b[0;32m   1067\u001b[0m \u001b[43m        \u001b[49m\u001b[43mestimator_name\u001b[49m\u001b[38;5;241;43m=\u001b[39;49m\u001b[43mestimator_name\u001b[49m\u001b[43m,\u001b[49m\n\u001b[0;32m   1068\u001b[0m \u001b[43m        \u001b[49m\u001b[43mallow_nan\u001b[49m\u001b[38;5;241;43m=\u001b[39;49m\u001b[43mforce_all_finite\u001b[49m\u001b[43m \u001b[49m\u001b[38;5;241;43m==\u001b[39;49m\u001b[43m \u001b[49m\u001b[38;5;124;43m\"\u001b[39;49m\u001b[38;5;124;43mallow-nan\u001b[39;49m\u001b[38;5;124;43m\"\u001b[39;49m\u001b[43m,\u001b[49m\n\u001b[0;32m   1069\u001b[0m \u001b[43m    \u001b[49m\u001b[43m)\u001b[49m\n\u001b[0;32m   1071\u001b[0m \u001b[38;5;28;01mif\u001b[39;00m copy:\n\u001b[0;32m   1072\u001b[0m     \u001b[38;5;28;01mif\u001b[39;00m _is_numpy_namespace(xp):\n\u001b[0;32m   1073\u001b[0m         \u001b[38;5;66;03m# only make a copy if `array` and `array_orig` may share memory`\u001b[39;00m\n",
      "File \u001b[1;32mc:\\Users\\rober\\AppData\\Local\\Programs\\Python\\Python312\\Lib\\site-packages\\sklearn\\utils\\validation.py:123\u001b[0m, in \u001b[0;36m_assert_all_finite\u001b[1;34m(X, allow_nan, msg_dtype, estimator_name, input_name)\u001b[0m\n\u001b[0;32m    120\u001b[0m \u001b[38;5;28;01mif\u001b[39;00m first_pass_isfinite:\n\u001b[0;32m    121\u001b[0m     \u001b[38;5;28;01mreturn\u001b[39;00m\n\u001b[1;32m--> 123\u001b[0m \u001b[43m_assert_all_finite_element_wise\u001b[49m\u001b[43m(\u001b[49m\n\u001b[0;32m    124\u001b[0m \u001b[43m    \u001b[49m\u001b[43mX\u001b[49m\u001b[43m,\u001b[49m\n\u001b[0;32m    125\u001b[0m \u001b[43m    \u001b[49m\u001b[43mxp\u001b[49m\u001b[38;5;241;43m=\u001b[39;49m\u001b[43mxp\u001b[49m\u001b[43m,\u001b[49m\n\u001b[0;32m    126\u001b[0m \u001b[43m    \u001b[49m\u001b[43mallow_nan\u001b[49m\u001b[38;5;241;43m=\u001b[39;49m\u001b[43mallow_nan\u001b[49m\u001b[43m,\u001b[49m\n\u001b[0;32m    127\u001b[0m \u001b[43m    \u001b[49m\u001b[43mmsg_dtype\u001b[49m\u001b[38;5;241;43m=\u001b[39;49m\u001b[43mmsg_dtype\u001b[49m\u001b[43m,\u001b[49m\n\u001b[0;32m    128\u001b[0m \u001b[43m    \u001b[49m\u001b[43mestimator_name\u001b[49m\u001b[38;5;241;43m=\u001b[39;49m\u001b[43mestimator_name\u001b[49m\u001b[43m,\u001b[49m\n\u001b[0;32m    129\u001b[0m \u001b[43m    \u001b[49m\u001b[43minput_name\u001b[49m\u001b[38;5;241;43m=\u001b[39;49m\u001b[43minput_name\u001b[49m\u001b[43m,\u001b[49m\n\u001b[0;32m    130\u001b[0m \u001b[43m\u001b[49m\u001b[43m)\u001b[49m\n",
      "File \u001b[1;32mc:\\Users\\rober\\AppData\\Local\\Programs\\Python\\Python312\\Lib\\site-packages\\sklearn\\utils\\validation.py:172\u001b[0m, in \u001b[0;36m_assert_all_finite_element_wise\u001b[1;34m(X, xp, allow_nan, msg_dtype, estimator_name, input_name)\u001b[0m\n\u001b[0;32m    155\u001b[0m \u001b[38;5;28;01mif\u001b[39;00m estimator_name \u001b[38;5;129;01mand\u001b[39;00m input_name \u001b[38;5;241m==\u001b[39m \u001b[38;5;124m\"\u001b[39m\u001b[38;5;124mX\u001b[39m\u001b[38;5;124m\"\u001b[39m \u001b[38;5;129;01mand\u001b[39;00m has_nan_error:\n\u001b[0;32m    156\u001b[0m     \u001b[38;5;66;03m# Improve the error message on how to handle missing values in\u001b[39;00m\n\u001b[0;32m    157\u001b[0m     \u001b[38;5;66;03m# scikit-learn.\u001b[39;00m\n\u001b[0;32m    158\u001b[0m     msg_err \u001b[38;5;241m+\u001b[39m\u001b[38;5;241m=\u001b[39m (\n\u001b[0;32m    159\u001b[0m         \u001b[38;5;124mf\u001b[39m\u001b[38;5;124m\"\u001b[39m\u001b[38;5;130;01m\\n\u001b[39;00m\u001b[38;5;132;01m{\u001b[39;00mestimator_name\u001b[38;5;132;01m}\u001b[39;00m\u001b[38;5;124m does not accept missing values\u001b[39m\u001b[38;5;124m\"\u001b[39m\n\u001b[0;32m    160\u001b[0m         \u001b[38;5;124m\"\u001b[39m\u001b[38;5;124m encoded as NaN natively. For supervised learning, you might want\u001b[39m\u001b[38;5;124m\"\u001b[39m\n\u001b[1;32m   (...)\u001b[0m\n\u001b[0;32m    170\u001b[0m         \u001b[38;5;124m\"\u001b[39m\u001b[38;5;124m#estimators-that-handle-nan-values\u001b[39m\u001b[38;5;124m\"\u001b[39m\n\u001b[0;32m    171\u001b[0m     )\n\u001b[1;32m--> 172\u001b[0m \u001b[38;5;28;01mraise\u001b[39;00m \u001b[38;5;167;01mValueError\u001b[39;00m(msg_err)\n",
      "\u001b[1;31mValueError\u001b[0m: Input y contains NaN."
     ]
    }
   ],
   "source": [
    "from sklearn.linear_model import LinearRegression\n",
    "import matplotlib.pyplot as plt\n",
    "\n",
    "\n",
    "X = cars_df[['kms_driven']]\n",
    "Y = cars_df['price']\n",
    "model = LinearRegression()\n",
    "model.fit(X, Y)\n",
    "predictions = model.predict(X)\n",
    "plt.scatter(X, Y, color='blue', label='Actual Prices')\n",
    "plt.plot(X, predictions, color='red', label='Predicted Prices')\n",
    "plt.xlabel('Kms Driven')\n",
    "plt.ylabel('Price')\n",
    "plt.title('Linear Regression: Price vs Kms Driven')\n",
    "plt.legend()\n",
    "plt.show()"
   ]
  },
  {
   "cell_type": "code",
   "execution_count": null,
   "metadata": {},
   "outputs": [
    {
     "data": {
      "text/plain": [
       "name          0\n",
       "year          0\n",
       "price         0\n",
       "kms_driven    0\n",
       "fuel_type     0\n",
       "dtype: int64"
      ]
     },
     "execution_count": 28,
     "metadata": {},
     "output_type": "execute_result"
    }
   ],
   "source": [
    "missing_values = cars_df.isnull().sum()\n",
    "\n",
    "missing_values"
   ]
  },
  {
   "cell_type": "code",
   "execution_count": null,
   "metadata": {},
   "outputs": [],
   "source": [
    "cars_df_cleaned = cars_df.dropna(subset=['kms_driven', 'price'])\n",
    "\n",
    "cleaned_shape = cars_df_cleaned.shape"
   ]
  },
  {
   "cell_type": "code",
   "execution_count": null,
   "metadata": {},
   "outputs": [
    {
     "data": {
      "image/png": "[encoded data removed]",
      "text/plain": [
       "<Figure size 1000x600 with 1 Axes>"
      ]
     },
     "metadata": {},
     "output_type": "display_data"
    },
    {
     "data": {
      "image/png": "[encoded data removed]",
      "text/plain": [
       "<Figure size 1000x600 with 1 Axes>"
      ]
     },
     "metadata": {},
     "output_type": "display_data"
    },
    {
     "data": {
      "image/png": "[encoded data removed]",
      "text/plain": [
       "<Figure size 1000x600 with 1 Axes>"
      ]
     },
     "metadata": {},
     "output_type": "display_data"
    }
   ],
   "source": [
    "import seaborn as sns\n",
    "\n",
    "\n",
    "sns.set(style='whitegrid')\n",
    "\n",
    "plt.figure(figsize=(10, 6))\n",
    "sns.scatterplot(data=cars_df_cleaned, x='kms_driven', y='price')\n",
    "plt.title('Kms Driven vs Price')\n",
    "plt.xlabel('Kms Driven')\n",
    "plt.ylabel('Price')\n",
    "plt.show()\n",
    "\n",
    "plt.figure(figsize=(10, 6))\n",
    "sns.histplot(cars_df_cleaned['price'], bins=30, kde=True)\n",
    "plt.title('Distribution of Price')\n",
    "plt.xlabel('Price')\n",
    "plt.ylabel('Frequency')\n",
    "plt.show()\n",
    "\n",
    "plt.figure(figsize=(10, 6))\n",
    "sns.histplot(cars_df_cleaned['kms_driven'], bins=30, kde=True)\n",
    "plt.title('Distribution of Kms Driven')\n",
    "plt.xlabel('Kms Driven')\n",
    "plt.ylabel('Frequency')\n",
    "plt.show()\n"
   ]
  },
  {
   "cell_type": "code",
   "execution_count": null,
   "metadata": {},
   "outputs": [
    {
     "data": {
      "text/plain": [
       "Text(0, 0.5, 'Price')"
      ]
     },
     "execution_count": 32,
     "metadata": {},
     "output_type": "execute_result"
    },
    {
     "data": {
      "image/png": "[encoded data removed]",
      "text/plain": [
       "<Figure size 1000x600 with 1 Axes>"
      ]
     },
     "metadata": {},
     "output_type": "display_data"
    }
   ],
   "source": [
    "from sklearn.linear_model import ElasticNet\n",
    "\n",
    "\n",
    "X_cleaned = cars_df_cleaned[['kms_driven']]\n",
    "Y_cleaned = cars_df_cleaned['price']\n",
    "\n",
    "elastic_net_model = ElasticNet(alpha=1.0, l1_ratio=0.5)\n",
    "\n",
    "\n",
    "elastic_net_model.fit(X_cleaned, Y_cleaned)\n",
    "\n",
    "\n",
    "elastic_net_predictions = elastic_net_model.predict(X_cleaned)\n",
    "\n",
    "plt.figure(figsize=(10, 6))\n",
    "sns.scatterplot(data=cars_df_cleaned, x='kms_driven', y='price', label='Actual Prices')\n",
    "plt.plot(X_cleaned, elastic_net_predictions, color='green', label='Elastic Net Predictions')\n",
    "plt.title('Elastic Net Regression: Price vs Kms Driven')\n",
    "plt.xlabel('Kms Driven')\n",
    "plt.ylabel('Price')"
   ]
  },
  {
   "cell_type": "code",
   "execution_count": null,
   "metadata": {},
   "outputs": [
    {
     "data": {
      "text/plain": [
       "0.014605800801927415"
      ]
     },
     "execution_count": 33,
     "metadata": {},
     "output_type": "execute_result"
    }
   ],
   "source": [
    "from sklearn.metrics import r2_score\n",
    "\n",
    "\n",
    "r2 = r2_score(Y_cleaned, elastic_net_predictions)\n",
    "\n",
    "r2"
   ]
  },
  {
   "cell_type": "code",
   "execution_count": null,
   "metadata": {},
   "outputs": [
    {
     "data": {
      "text/plain": [
       "(array([-0.03155261,  0.01268968, -0.04121201,  0.00157858,  0.00118087]),\n",
       " -0.01146309763071256)"
      ]
     },
     "execution_count": 41,
     "metadata": {},
     "output_type": "execute_result"
    }
   ],
   "source": [
    "from sklearn.model_selection import cross_val_score\n",
    "\n",
    "cv_scores = cross_val_score(elastic_net_model, X_cleaned, Y_cleaned, cv=5, scoring='r2')\n",
    "\n",
    "mean_r2_score = cv_scores.mean()\n",
    "cv_scores, mean_r2_score"
   ]
  },
  {
   "cell_type": "code",
   "execution_count": null,
   "metadata": {},
   "outputs": [
    {
     "data": {
      "text/plain": [
       "array([-0.03155261,  0.01268968, -0.04121201,  0.00157858,  0.00118087])"
      ]
     },
     "execution_count": 36,
     "metadata": {},
     "output_type": "execute_result"
    }
   ],
   "source": [
    "cv_scores"
   ]
  },
  {
   "cell_type": "code",
   "execution_count": null,
   "metadata": {},
   "outputs": [],
   "source": [
    "from sklearn.model_selection import train_test_split\n",
    "from sklearn.linear_model import LogisticRegression\n",
    "from sklearn.metrics import accuracy_score, confusion_matrix, classification_report"
   ]
  },
  {
   "cell_type": "code",
   "execution_count": null,
   "metadata": {},
   "outputs": [],
   "source": [
    "from sklearn.model_selection import cross_val_score\n",
    "from sklearn.tree import DecisionTreeClassifier"
   ]
  }
 ],
 "metadata": {
  "kernelspec": {
   "display_name": "Python 3",
   "language": "python",
   "name": "python3"
  },
  "language_info": {
   "codemirror_mode": {
    "name": "ipython",
    "version": 3
   },
   "file_extension": ".py",
   "mimetype": "text/x-python",
   "name": "python",
   "nbconvert_exporter": "python",
   "pygments_lexer": "ipython3",
   "version": "3.12.4"
  }
 },
 "nbformat": 4,
 "nbformat_minor": 2
}
