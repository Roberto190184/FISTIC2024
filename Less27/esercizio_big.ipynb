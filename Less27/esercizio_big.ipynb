{
 "cells": [
  {
   "cell_type": "markdown",
   "metadata": {
    "id": "jS23CiMXc4vu"
   },
   "source": [
    "## MusicBrainz"
   ]
  },
  {
   "cell_type": "code",
   "execution_count": 1,
   "metadata": {
    "colab": {
     "base_uri": "https://localhost:8080/"
    },
    "executionInfo": {
     "elapsed": 17801,
     "status": "ok",
     "timestamp": 1740650763992,
     "user": {
      "displayName": "Daniele Grotti",
      "userId": "05993002232846155126"
     },
     "user_tz": -60
    },
    "id": "LFYtBNJSWUy7",
    "outputId": "e1e59ac5-5ed8-4ac2-9086-764a6b90f36f"
   },
   "outputs": [
    {
     "name": "stdout",
     "output_type": "stream",
     "text": [
      "Reading package lists... Done\n",
      "Building dependency tree... Done\n",
      "Reading state information... Done\n",
      "The following NEW packages will be installed:\n",
      "  zstd\n",
      "0 upgraded, 1 newly installed, 0 to remove and 23 not upgraded.\n",
      "Need to get 603 kB of archives.\n",
      "After this operation, 1,695 kB of additional disk space will be used.\n",
      "Get:1 http://archive.ubuntu.com/ubuntu jammy/main amd64 zstd amd64 1.4.8+dfsg-3build1 [603 kB]\n",
      "Fetched 603 kB in 1s (870 kB/s)\n",
      "Selecting previously unselected package zstd.\n",
      "(Reading database ... 124947 files and directories currently installed.)\n",
      "Preparing to unpack .../zstd_1.4.8+dfsg-3build1_amd64.deb ...\n",
      "Unpacking zstd (1.4.8+dfsg-3build1) ...\n",
      "Setting up zstd (1.4.8+dfsg-3build1) ...\n",
      "Processing triggers for man-db (2.10.2-1) ...\n"
     ]
    }
   ],
   "source": [
    "!apt-get install zstd"
   ]
  },
  {
   "cell_type": "code",
   "execution_count": 2,
   "metadata": {
    "colab": {
     "base_uri": "https://localhost:8080/"
    },
    "executionInfo": {
     "elapsed": 143237,
     "status": "ok",
     "timestamp": 1740650907233,
     "user": {
      "displayName": "Daniele Grotti",
      "userId": "05993002232846155126"
     },
     "user_tz": -60
    },
    "id": "Pqsw-UD6W_Is",
    "outputId": "54c17918-4438-4b11-c051-e4c112d9528f"
   },
   "outputs": [
    {
     "name": "stdout",
     "output_type": "stream",
     "text": [
      "--2025-02-27 10:06:03--  https://data.metabrainz.org/pub/musicbrainz/canonical_data/musicbrainz-canonical-dump-20250117-080003/musicbrainz-canonical-dump-20250117-080003.tar.zst\n",
      "Resolving data.metabrainz.org (data.metabrainz.org)... 138.201.203.43\n",
      "Connecting to data.metabrainz.org (data.metabrainz.org)|138.201.203.43|:443... connected.\n",
      "HTTP request sent, awaiting response... 200 OK\n",
      "Length: 1987726230 (1.9G) [application/octet-stream]\n",
      "Saving to: ‘musicbrainz-canonical-dump-20250117-080003.tar.zst’\n",
      "\n",
      "musicbrainz-canonic 100%[===================>]   1.85G  13.3MB/s    in 2m 22s  \n",
      "\n",
      "2025-02-27 10:08:26 (13.3 MB/s) - ‘musicbrainz-canonical-dump-20250117-080003.tar.zst’ saved [1987726230/1987726230]\n",
      "\n"
     ]
    }
   ],
   "source": [
    "!wget https://data.metabrainz.org/pub/musicbrainz/canonical_data/musicbrainz-canonical-dump-20250117-080003/musicbrainz-canonical-dump-20250117-080003.tar.zst"
   ]
  },
  {
   "cell_type": "code",
   "execution_count": 3,
   "metadata": {
    "colab": {
     "base_uri": "https://localhost:8080/"
    },
    "executionInfo": {
     "elapsed": 72414,
     "status": "ok",
     "timestamp": 1740650979651,
     "user": {
      "displayName": "Daniele Grotti",
      "userId": "05993002232846155126"
     },
     "user_tz": -60
    },
    "id": "XmKvKJ_DWUzC",
    "outputId": "59b496d5-643d-41bd-e09f-a33ffb8f2556"
   },
   "outputs": [
    {
     "name": "stdout",
     "output_type": "stream",
     "text": [
      "musicbrainz-canonical-dump-20250117-080003.tar.zst: 7722035200 bytes \n"
     ]
    }
   ],
   "source": [
    "# Decomprimi il file\n",
    "!unzstd musicbrainz-canonical-dump-20250117-080003.tar.zst"
   ]
  },
  {
   "cell_type": "code",
   "execution_count": 4,
   "metadata": {
    "executionInfo": {
     "elapsed": 81124,
     "status": "ok",
     "timestamp": 1740651060778,
     "user": {
      "displayName": "Daniele Grotti",
      "userId": "05993002232846155126"
     },
     "user_tz": -60
    },
    "id": "Y6IuVxgRWUzG"
   },
   "outputs": [],
   "source": [
    "!tar xf musicbrainz-canonical-dump-20250117-080003.tar"
   ]
  },
  {
   "cell_type": "code",
   "execution_count": null,
   "metadata": {
    "id": "zB98lJDg6L2y"
   },
   "outputs": [],
   "source": [
    "# File paths\n",
    "csv_files = [\n",
    "    'musicbrainz-canonical-dump-20250117-080003/canonical/canonical_musicbrainz_data.csv',\n",
    "    'musicbrainz-canonical-dump-20250117-080003/canonical/canonical_recording_redirect.csv',\n",
    "    'musicbrainz-canonical-dump-20250117-080003/canonical/canonical_release_redirect.csv'\n",
    "]"
   ]
  }
 ],
 "metadata": {
  "colab": {
   "provenance": []
  },
  "kernelspec": {
   "display_name": "Python 3",
   "name": "python3"
  },
  "language_info": {
   "codemirror_mode": {
    "name": "ipython",
    "version": 3
   },
   "file_extension": ".py",
   "mimetype": "text/x-python",
   "name": "python",
   "nbconvert_exporter": "python",
   "pygments_lexer": "ipython3",
   "version": "3.11.9"
  }
 },
 "nbformat": 4,
 "nbformat_minor": 0
}
