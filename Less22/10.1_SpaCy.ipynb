{
 "cells": [
  {
   "cell_type": "markdown",
   "metadata": {
    "id": "ZQQPLziPPqsA"
   },
   "source": [
    "# The Power of NLP"
   ]
  },
  {
   "cell_type": "markdown",
   "metadata": {
    "id": "UNcZGTjQdp8A"
   },
   "source": [
    "Natural language processing (NLP) deals with building computational algorithms to automatically analyze and represent human language. NLP-based systems have enabled a wide range of applications such as Google’s powerful search engine, and more recently, Amazon’s voice assistant named Alexa. NLP is also useful to teach machines the ability to perform complex natural language related tasks such as machine translation and dialogue generation.\n",
    "\n",
    "For a long time, the majority of methods used to study NLP problems employed shallow machine learning models and time-consuming, hand-crafted features. This lead to problems such as the curse of dimensionality since linguistic information was represented with sparse representations (high-dimensional features).\n",
    "\n",
    "However, with the recent popularity and success of word embeddings (low dimensional, distributed representations), neural-based models have achieved superior results on various language-related tasks as compared to traditional machine learning models"
   ]
  },
  {
   "cell_type": "markdown",
   "metadata": {
    "id": "lfLlHnaQOlvu"
   },
   "source": [
    "<img src=\"https://frenzy86.s3.eu-west-2.amazonaws.com/IFAO/nlp/nlp22.png\" width=\"1200\">"
   ]
  },
  {
   "cell_type": "markdown",
   "metadata": {
    "id": "Usj7jwFETSbt"
   },
   "source": [
    "<img src=\"https://frenzy86.s3.eu-west-2.amazonaws.com/IFAO/nlp/roadmap.jpg\" width=\"900\">"
   ]
  },
  {
   "cell_type": "markdown",
   "metadata": {
    "id": "oVlZvZ_kc4mV"
   },
   "source": [
    "## BERT\n",
    "BERT (Bidirectional Encoder Representations from Transformers) is a recent paper published by researchers at Google AI Language. It has caused a stir in the Machine Learning community by presenting state-of-the-art results in a wide variety of NLP tasks, including Question Answering (SQuAD v1.1), Natural Language Inference (MNLI), and others.\n",
    "BERT’s key technical innovation is applying the bidirectional training of Transformer, a popular attention model, to language modelling"
   ]
  },
  {
   "cell_type": "markdown",
   "metadata": {
    "id": "P_Ql9z9Sceih"
   },
   "source": [
    "<img src=\"https://frenzy86.s3.eu-west-2.amazonaws.com/IFAO/nlp/bert.jpg\" width=\"900\">"
   ]
  },
  {
   "cell_type": "markdown",
   "metadata": {
    "id": "h9zxeVbkVX6w"
   },
   "source": [
    "## GPT-3"
   ]
  },
  {
   "cell_type": "markdown",
   "metadata": {
    "id": "V60242v4U9bP"
   },
   "source": [
    "According to researchers in the paper[https://arxiv.org/pdf/2005.14165.pdf];\n",
    "\n",
    "“GPT-3 achieves strong performance on many NLP datasets, including translation, question-answering, and cloze tasks, as well as several tasks that require on-the-fly reasoning or domain adaptation, such as unscrambling words, using a novel word in a sentence, or performing 3-digit arithmetic,”\n",
    "\n",
    "The team also finds that “ GPT-3 can construct samples of news articles which people will get conflict in order to recognize articles transcripted by humans.”"
   ]
  },
  {
   "cell_type": "markdown",
   "metadata": {
    "id": "Gk5qx3igRUDx"
   },
   "source": [
    "<img src=\"https://frenzy86.s3.eu-west-2.amazonaws.com/IFAO/gpt.jpg\" width=\"900\">"
   ]
  },
  {
   "cell_type": "markdown",
   "metadata": {
    "id": "mwV8ASNPUhC3"
   },
   "source": [
    "<img src=\"https://frenzy86.s3.eu-west-2.amazonaws.com/IFAO/nlp/model.png\" width=\"900\">\n"
   ]
  },
  {
   "cell_type": "markdown",
   "metadata": {
    "id": "z5X4bAwlVaXz"
   },
   "source": [
    "Specification:\n",
    "\n",
    "\n",
    "- A state-of-the-art language model made up of 175 billion parameters.\n",
    "\n",
    "- A parameter is a measurement in a neural network that deploys a large or small weightage to a few aspects of data, for providing that aspect larger or smaller importance in an entire measurement of the data.\n",
    "\n",
    "- These are the weights that deliver shape to the data, and provide a neural network an understanding angle on the data."
   ]
  },
  {
   "cell_type": "markdown",
   "metadata": {
    "id": "XZuuI3i3Vge7"
   },
   "source": [
    "<img src=\"https://frenzy86.s3.eu-west-2.amazonaws.com/IFAO/nlp/gpt3.jpg\" width=\"900\">"
   ]
  },
  {
   "cell_type": "markdown",
   "metadata": {
    "id": "7-wE6KJ_n2Pu"
   },
   "source": [
    "# spaCy\n",
    "SpaCy is an open-source software library for advanced natural language processing, written in the programming languages Python and Cython. Unlike NLTK, which is widely used for teaching and research, spaCy focuses on providing software for production usage, spaCy also supports deep learning workflows that allow connecting statistical models trained by popular machine learning libraries like TensorFlow, PyTorch or MXNet through its own machine learning library Thinc."
   ]
  },
  {
   "cell_type": "markdown",
   "metadata": {
    "id": "4L_xSfsbPwWT"
   },
   "source": [
    "<img src=\"https://frenzy86.s3.eu-west-2.amazonaws.com/IFAO/nlp/nlp23.jpg\" width=\"1200\">\n",
    "\n"
   ]
  },
  {
   "cell_type": "markdown",
   "metadata": {
    "id": "4FrVhSKdR2Ql"
   },
   "source": [
    "<img src=\"https://frenzy86.s3.eu-west-2.amazonaws.com/IFAO/nlp/nltkspacy1.png\" width=\"600\">"
   ]
  },
  {
   "cell_type": "markdown",
   "metadata": {
    "id": "7R6RkTgGR2Mk"
   },
   "source": [
    "<img src=\"https://frenzy86.s3.eu-west-2.amazonaws.com/IFAO/nlp/nltkspacy2.png\" width=\"500\">"
   ]
  },
  {
   "cell_type": "markdown",
   "metadata": {
    "id": "wnJOeu0un2Pu"
   },
   "source": [
    "### Installation and Setup\n",
    "\n",
    "Installation is a two-step process. First, install spaCy using either conda or pip. Next, download the specific model you want, based on language.<br> For more info visit https://spacy.io/usage/"
   ]
  },
  {
   "cell_type": "code",
   "execution_count": null,
   "metadata": {
    "id": "87ucjbjdn-my"
   },
   "outputs": [],
   "source": [
    "# !pip install spacy ## Colab har already the installer\n",
    "# !python -m spacy download en\n",
    "#!python -m spacy download it_core_news_sm\n",
    "!python -m spacy download it_core_news_md\n",
    "#!python -m spacy download it_core_news_lg\n",
    "\n",
    "#RESTART RUNTIME"
   ]
  },
  {
   "cell_type": "code",
   "execution_count": 47,
   "metadata": {
    "colab": {
     "base_uri": "https://localhost:8080/"
    },
    "executionInfo": {
     "elapsed": 2255,
     "status": "ok",
     "timestamp": 1713463873606,
     "user": {
      "displayName": "Daniele Grotti",
      "userId": "05993002232846155126"
     },
     "user_tz": -120
    },
    "id": "NtoG7dXPrr1z",
    "outputId": "73fcfe9f-4145-492c-df12-5ba0092a34ef"
   },
   "outputs": [
    {
     "name": "stdout",
     "output_type": "stream",
     "text": [
      "Ciao a tutti ragazzi! valle d'Aosta \n"
     ]
    }
   ],
   "source": [
    "# Import spaCy and load the language library\n",
    "import spacy\n",
    "nlp = spacy.load('it_core_news_md')\n",
    "\n",
    "# Create a string that includes opening and closing quotation marks\n",
    "itadoc = nlp(\"Ciao a tutti ragazzi! valle d'Aosta \")\n",
    "print(itadoc)"
   ]
  },
  {
   "cell_type": "code",
   "execution_count": 3,
   "metadata": {
    "colab": {
     "base_uri": "https://localhost:8080/"
    },
    "executionInfo": {
     "elapsed": 282,
     "status": "ok",
     "timestamp": 1713463875141,
     "user": {
      "displayName": "Daniele Grotti",
      "userId": "05993002232846155126"
     },
     "user_tz": -120
    },
    "id": "VYX9anhJsDWI",
    "outputId": "33f731c0-b19c-4569-9c67-b1ebd285ec4b"
   },
   "outputs": [
    {
     "name": "stdout",
     "output_type": "stream",
     "text": [
      "Ciao VERB\n",
      "a ADP\n",
      "tutti DET\n",
      "ragazzi NOUN\n",
      "! PUNCT\n",
      "valle NOUN\n",
      "d' ADP\n",
      "Aosta PROPN\n"
     ]
    }
   ],
   "source": [
    "# Print each token separately\n",
    "for token in itadoc:\n",
    "    print(token.text, token.pos_,)"
   ]
  },
  {
   "cell_type": "code",
   "execution_count": 4,
   "metadata": {
    "colab": {
     "base_uri": "https://localhost:8080/"
    },
    "executionInfo": {
     "elapsed": 7800,
     "status": "ok",
     "timestamp": 1716293692412,
     "user": {
      "displayName": "Daniele Grotti",
      "userId": "05993002232846155126"
     },
     "user_tz": -120
    },
    "id": "_8rshRHhn2Pv",
    "outputId": "ce95e0fe-bf6d-4e73-81d8-449e8337b788"
   },
   "outputs": [
    {
     "name": "stdout",
     "output_type": "stream",
     "text": [
      "Tesla PROPN nsubj\n",
      "is AUX aux\n",
      "looking VERB ROOT\n",
      "at ADP prep\n",
      "buying VERB pcomp\n",
      "U.S.A PROPN dobj\n",
      "startup NOUN dobj\n",
      "for ADP prep\n",
      "$ SYM quantmod\n",
      "6 NUM compound\n",
      "million NUM pobj\n",
      ", PUNCT punct\n",
      "U.K PROPN npadvmod\n"
     ]
    }
   ],
   "source": [
    "# Import spaCy and load the language library\n",
    "import spacy\n",
    "nlp = spacy.load('en_core_web_sm')\n",
    "\n",
    "# Create a Doc object\n",
    "doc = nlp('Tesla is looking at buying U.S.A startup for $6 million, U.K')\n",
    "\n",
    "# Print each token separately\n",
    "for token in doc:\n",
    "    print(token.text, token.pos_, token.dep_) # dep=dependencies"
   ]
  },
  {
   "cell_type": "markdown",
   "metadata": {
    "id": "SFb22P2fn2Pv"
   },
   "source": [
    "This doesn't look very user-friendly, but right away we see some interesting things happen:\n",
    "1. Tesla is recognized to be a Proper Noun, not just a word at the start of a sentence\n",
    "2. U.S. is kept together as one entity (we call this a 'token')\n",
    "\n",
    "As we dive deeper into spaCy we'll see what each of these abbreviations mean and how they're derived. We'll also see how spaCy can interpret the last three tokens combined `$6 million` as referring to ***money***."
   ]
  },
  {
   "cell_type": "markdown",
   "metadata": {
    "id": "a0jsZdnln2Pw"
   },
   "source": [
    "___\n",
    "# spaCy Objects\n",
    "\n",
    "After importing the spacy module in the cell above we loaded a **model** and named it `nlp`.<br>Next we created a **Doc** object by applying the model to our text, and named it `doc`.<br>\n",
    "\n",
    "**In the sm/md/lg models:**\n",
    "\n",
    "- The tagger, morphologizer and parser components listen to the tok2vec component. If the lemmatizer is trainable (v3.3+), lemmatizer also listens to tok2vec.\n",
    "- The attribute_ruler maps token.tag to token.pos if there is no morphologizer. - The attribute_ruler additionally makes sure whitespace is tagged consistently and copies token.pos to token.tag if there is no tagger. For English, the attribute ruler can improve its mapping from token.tag to token.pos if dependency parses from a parser are present, but the parser is not required.\n",
    "- The lemmatizer component for many languages requires token.pos annotation from either tagger+attribute_ruler or morphologizer.\n",
    "- The ner component is independent with its own internal tok2vec layer.\n",
    "\n",
    "## Pipeline\n",
    "When we run `nlp`, our text enters a *processing pipeline* that first breaks down the text and then performs a series of operations to tag, parse and describe the data."
   ]
  },
  {
   "cell_type": "markdown",
   "metadata": {
    "id": "z9Ny716sn2Pw"
   },
   "source": [
    "<img src=\"https://frenzy86.s3.eu-west-2.amazonaws.com/python/pipespacy.png\" width=\"1200\">"
   ]
  },
  {
   "cell_type": "code",
   "execution_count": 5,
   "metadata": {
    "colab": {
     "base_uri": "https://localhost:8080/"
    },
    "executionInfo": {
     "elapsed": 4,
     "status": "ok",
     "timestamp": 1715781980119,
     "user": {
      "displayName": "Daniele Grotti",
      "userId": "05993002232846155126"
     },
     "user_tz": -120
    },
    "id": "SJgO8VBwn2Px",
    "outputId": "da24e075-2c16-42a4-9a5b-31561c5dd287"
   },
   "outputs": [
    {
     "data": {
      "text/plain": [
       "[('tok2vec', <spacy.pipeline.tok2vec.Tok2Vec at 0x1e04797fca0>),\n",
       " ('tagger', <spacy.pipeline.tagger.Tagger at 0x1e042bbfca0>),\n",
       " ('parser', <spacy.pipeline.dep_parser.DependencyParser at 0x1e03fe4d9a0>),\n",
       " ('attribute_ruler',\n",
       "  <spacy.pipeline.attributeruler.AttributeRuler at 0x1e0479d9200>),\n",
       " ('lemmatizer', <spacy.lang.en.lemmatizer.EnglishLemmatizer at 0x1e0479d8380>),\n",
       " ('ner', <spacy.pipeline.ner.EntityRecognizer at 0x1e03fe4db60>)]"
      ]
     },
     "execution_count": 5,
     "metadata": {},
     "output_type": "execute_result"
    }
   ],
   "source": [
    "nlp.pipeline"
   ]
  },
  {
   "cell_type": "code",
   "execution_count": 6,
   "metadata": {
    "colab": {
     "base_uri": "https://localhost:8080/"
    },
    "executionInfo": {
     "elapsed": 302,
     "status": "ok",
     "timestamp": 1715781989249,
     "user": {
      "displayName": "Daniele Grotti",
      "userId": "05993002232846155126"
     },
     "user_tz": -120
    },
    "id": "7ztr98jnn2Px",
    "outputId": "fc22f1d6-84a7-4d59-fbce-b6ec1d8e75b9"
   },
   "outputs": [
    {
     "data": {
      "text/plain": [
       "['tok2vec', 'tagger', 'parser', 'attribute_ruler', 'lemmatizer', 'ner']"
      ]
     },
     "execution_count": 6,
     "metadata": {},
     "output_type": "execute_result"
    }
   ],
   "source": [
    "nlp.pipe_names"
   ]
  },
  {
   "cell_type": "markdown",
   "metadata": {
    "id": "iv8lUsbMn2Px"
   },
   "source": [
    "___\n",
    "## Tokenization\n",
    "The first step in processing text is to split up all the component parts (words & punctuation) into \"tokens\""
   ]
  },
  {
   "cell_type": "code",
   "execution_count": 7,
   "metadata": {
    "colab": {
     "base_uri": "https://localhost:8080/"
    },
    "executionInfo": {
     "elapsed": 276,
     "status": "ok",
     "timestamp": 1716293744276,
     "user": {
      "displayName": "Daniele Grotti",
      "userId": "05993002232846155126"
     },
     "user_tz": -120
    },
    "id": "kgucJuXMn2Py",
    "outputId": "918bf6b3-4586-4ac9-c120-503a5125fee4"
   },
   "outputs": [
    {
     "name": "stdout",
     "output_type": "stream",
     "text": [
      "Tesla PROPN nsubj\n",
      "is AUX aux\n",
      "n't PART neg\n",
      "   SPACE dep\n",
      "looking VERB ROOT\n",
      "into ADP prep\n",
      "startups NOUN pobj\n",
      "anymore ADV advmod\n",
      ". PUNCT punct\n"
     ]
    }
   ],
   "source": [
    "doc2 = nlp(\"Tesla isn't   looking into startups anymore.\")\n",
    "\n",
    "for token in doc2:\n",
    "    print(token.text, token.pos_, token.dep_)"
   ]
  },
  {
   "cell_type": "markdown",
   "metadata": {
    "id": "Z5LDdW47n2Py"
   },
   "source": [
    "`isn't` has been split into two tokens. spaCy recognizes both the root verb `is` and the negation attached to it. Notice also that both the extended whitespace and the period at the end of the sentence are assigned their own tokens.\n",
    "\n",
    "It's important to note that even though `doc2` contains processed information about each token, it also retains the original text:"
   ]
  },
  {
   "cell_type": "code",
   "execution_count": 8,
   "metadata": {
    "colab": {
     "base_uri": "https://localhost:8080/"
    },
    "executionInfo": {
     "elapsed": 301,
     "status": "ok",
     "timestamp": 1716293793296,
     "user": {
      "displayName": "Daniele Grotti",
      "userId": "05993002232846155126"
     },
     "user_tz": -120
    },
    "id": "OCvVB7r5n2Py",
    "outputId": "9fc12364-fd55-4c10-96f2-c81ed08ffd48"
   },
   "outputs": [
    {
     "data": {
      "text/plain": [
       "Tesla isn't   looking into startups anymore."
      ]
     },
     "execution_count": 8,
     "metadata": {},
     "output_type": "execute_result"
    }
   ],
   "source": [
    "doc2"
   ]
  },
  {
   "cell_type": "code",
   "execution_count": 9,
   "metadata": {
    "colab": {
     "base_uri": "https://localhost:8080/"
    },
    "executionInfo": {
     "elapsed": 4,
     "status": "ok",
     "timestamp": 1716293794118,
     "user": {
      "displayName": "Daniele Grotti",
      "userId": "05993002232846155126"
     },
     "user_tz": -120
    },
    "id": "Eh2ctG_WD5hL",
    "outputId": "657faee7-ebf4-44be-ca54-c227114bdb1f"
   },
   "outputs": [
    {
     "data": {
      "text/plain": [
       "Tesla"
      ]
     },
     "execution_count": 9,
     "metadata": {},
     "output_type": "execute_result"
    }
   ],
   "source": [
    "doc2[0]"
   ]
  },
  {
   "cell_type": "code",
   "execution_count": 10,
   "metadata": {
    "colab": {
     "base_uri": "https://localhost:8080/"
    },
    "executionInfo": {
     "elapsed": 262,
     "status": "ok",
     "timestamp": 1716293800059,
     "user": {
      "displayName": "Daniele Grotti",
      "userId": "05993002232846155126"
     },
     "user_tz": -120
    },
    "id": "75i8eUZvn2Py",
    "outputId": "2d5a6048-a014-4e2f-9e5e-4ff154163571"
   },
   "outputs": [
    {
     "data": {
      "text/plain": [
       "n't"
      ]
     },
     "execution_count": 10,
     "metadata": {},
     "output_type": "execute_result"
    }
   ],
   "source": [
    "doc2[2]"
   ]
  },
  {
   "cell_type": "code",
   "execution_count": 11,
   "metadata": {
    "colab": {
     "base_uri": "https://localhost:8080/"
    },
    "executionInfo": {
     "elapsed": 301,
     "status": "ok",
     "timestamp": 1716293803832,
     "user": {
      "displayName": "Daniele Grotti",
      "userId": "05993002232846155126"
     },
     "user_tz": -120
    },
    "id": "amoDnEddn2Pz",
    "outputId": "e9457eb3-7161-4f41-b620-4d9c835b9c56"
   },
   "outputs": [
    {
     "data": {
      "text/plain": [
       "spacy.tokens.doc.Doc"
      ]
     },
     "execution_count": 11,
     "metadata": {},
     "output_type": "execute_result"
    }
   ],
   "source": [
    "type(doc2)"
   ]
  },
  {
   "cell_type": "code",
   "execution_count": 12,
   "metadata": {
    "colab": {
     "base_uri": "https://localhost:8080/"
    },
    "executionInfo": {
     "elapsed": 397,
     "status": "ok",
     "timestamp": 1716293805925,
     "user": {
      "displayName": "Daniele Grotti",
      "userId": "05993002232846155126"
     },
     "user_tz": -120
    },
    "id": "m5efPlHREB9P",
    "outputId": "e214d402-1fd9-47f9-f836-9e74fe91de43"
   },
   "outputs": [
    {
     "data": {
      "text/plain": [
       "."
      ]
     },
     "execution_count": 12,
     "metadata": {},
     "output_type": "execute_result"
    }
   ],
   "source": [
    "doc2[-1]"
   ]
  },
  {
   "cell_type": "markdown",
   "metadata": {
    "id": "zN928uTtn2Pz"
   },
   "source": [
    "___\n",
    "## Part-of-Speech Tagging (POS)\n",
    "The next step after splitting the text up into tokens is to assign parts of speech. In the above example, `Tesla` was recognized to be a ***proper noun***. Here some statistical modeling is required. For example, words that follow \"the\" are typically nouns.\n",
    "\n",
    "For a full list of POS Tags visit https://spacy.io/api/annotation#pos-tagging"
   ]
  },
  {
   "cell_type": "code",
   "execution_count": 13,
   "metadata": {
    "colab": {
     "base_uri": "https://localhost:8080/",
     "height": 36
    },
    "executionInfo": {
     "elapsed": 461,
     "status": "ok",
     "timestamp": 1716293814254,
     "user": {
      "displayName": "Daniele Grotti",
      "userId": "05993002232846155126"
     },
     "user_tz": -120
    },
    "id": "oq2VZ35PZ3qm",
    "outputId": "b2afa5b6-9249-49c6-c3d7-5b917ffc4e61"
   },
   "outputs": [
    {
     "data": {
      "text/plain": [
       "'Tesla'"
      ]
     },
     "execution_count": 13,
     "metadata": {},
     "output_type": "execute_result"
    }
   ],
   "source": [
    "doc2[0].text"
   ]
  },
  {
   "cell_type": "code",
   "execution_count": 14,
   "metadata": {
    "colab": {
     "base_uri": "https://localhost:8080/",
     "height": 36
    },
    "executionInfo": {
     "elapsed": 415,
     "status": "ok",
     "timestamp": 1716293814662,
     "user": {
      "displayName": "Daniele Grotti",
      "userId": "05993002232846155126"
     },
     "user_tz": -120
    },
    "id": "MF2QulANn2Pz",
    "outputId": "40bacb05-b3af-4869-cdc0-0baececb9c53"
   },
   "outputs": [
    {
     "data": {
      "text/plain": [
       "'PROPN'"
      ]
     },
     "execution_count": 14,
     "metadata": {},
     "output_type": "execute_result"
    }
   ],
   "source": [
    "doc2[0].pos_"
   ]
  },
  {
   "cell_type": "markdown",
   "metadata": {
    "id": "bYwboNbIn2Pz"
   },
   "source": [
    "___\n",
    "## Dependencies\n",
    "We also looked at the syntactic dependencies assigned to each token. `Tesla` is identified as an `nsubj` or the ***nominal subject*** of the sentence.\n",
    "\n",
    "For a full list of Syntactic Dependencies visit https://spacy.io/api/annotation#dependency-parsing\n",
    "<br>A good explanation of typed dependencies can be found [here](https://nlp.stanford.edu/software/dependencies_manual.pdf)"
   ]
  },
  {
   "cell_type": "code",
   "execution_count": 15,
   "metadata": {
    "colab": {
     "base_uri": "https://localhost:8080/",
     "height": 36
    },
    "executionInfo": {
     "elapsed": 6,
     "status": "ok",
     "timestamp": 1716293816039,
     "user": {
      "displayName": "Daniele Grotti",
      "userId": "05993002232846155126"
     },
     "user_tz": -120
    },
    "id": "hFBXLEAFn2P0",
    "outputId": "36d9552b-e7c9-44ef-bda2-8ac5a516a018"
   },
   "outputs": [
    {
     "data": {
      "text/plain": [
       "'nsubj'"
      ]
     },
     "execution_count": 15,
     "metadata": {},
     "output_type": "execute_result"
    }
   ],
   "source": [
    "doc2[0].dep_"
   ]
  },
  {
   "cell_type": "markdown",
   "metadata": {
    "id": "KCG-rkaen2P0"
   },
   "source": [
    "To see the full name of a tag use `spacy.explain(tag)`"
   ]
  },
  {
   "cell_type": "code",
   "execution_count": 16,
   "metadata": {
    "colab": {
     "base_uri": "https://localhost:8080/",
     "height": 36
    },
    "executionInfo": {
     "elapsed": 6,
     "status": "ok",
     "timestamp": 1716293816931,
     "user": {
      "displayName": "Daniele Grotti",
      "userId": "05993002232846155126"
     },
     "user_tz": -120
    },
    "id": "ZFJKHdgSn2P0",
    "outputId": "2b6cd343-ee47-4def-9363-ee980778ab1e"
   },
   "outputs": [
    {
     "data": {
      "text/plain": [
       "'proper noun'"
      ]
     },
     "execution_count": 16,
     "metadata": {},
     "output_type": "execute_result"
    }
   ],
   "source": [
    "spacy.explain('PROPN')"
   ]
  },
  {
   "cell_type": "code",
   "execution_count": 17,
   "metadata": {
    "colab": {
     "base_uri": "https://localhost:8080/",
     "height": 36
    },
    "executionInfo": {
     "elapsed": 9,
     "status": "ok",
     "timestamp": 1716293828296,
     "user": {
      "displayName": "Daniele Grotti",
      "userId": "05993002232846155126"
     },
     "user_tz": -120
    },
    "id": "jAGItvkDn2P0",
    "outputId": "3adc2f29-fced-4e6c-f70a-c6ab15eb6561"
   },
   "outputs": [
    {
     "data": {
      "text/plain": [
       "'nominal subject'"
      ]
     },
     "execution_count": 17,
     "metadata": {},
     "output_type": "execute_result"
    }
   ],
   "source": [
    "spacy.explain('nsubj')"
   ]
  },
  {
   "cell_type": "markdown",
   "metadata": {
    "id": "F_VFvTB9n2P1"
   },
   "source": [
    "___\n",
    "## Additional Token Attributes\n",
    "We'll see these again in upcoming lectures. For now we just want to illustrate some of the other information that spaCy assigns to tokens:"
   ]
  },
  {
   "cell_type": "markdown",
   "metadata": {
    "id": "TTEIR-E1n2P1"
   },
   "source": [
    "|Tag|Description|doc2[0].tag|\n",
    "|:------|:------:|:------|\n",
    "|`.text`|The original word text<!-- .element: style=\"text-align:left;\" -->|`Tesla`|\n",
    "|`.lemma_`|The base form of the word|`tesla`|\n",
    "|`.pos_`|The simple part-of-speech tag|`PROPN`/`proper noun`|\n",
    "|`.tag_`|The detailed part-of-speech tag|`NNP`/`noun, proper singular`|\n",
    "|`.shape_`|The word shape – capitalization, punctuation, digits|`Xxxxx`|\n",
    "|`.is_alpha`|Is the token an alpha character?|`True`|\n",
    "|`.is_stop`|Is the token part of a stop list, i.e. the most common words of the language?|`False`|"
   ]
  },
  {
   "cell_type": "code",
   "execution_count": 18,
   "metadata": {
    "colab": {
     "base_uri": "https://localhost:8080/"
    },
    "executionInfo": {
     "elapsed": 360,
     "status": "ok",
     "timestamp": 1715782430504,
     "user": {
      "displayName": "Daniele Grotti",
      "userId": "05993002232846155126"
     },
     "user_tz": -120
    },
    "id": "QpVGAOvcn2P1",
    "outputId": "00fef5de-ad48-4c8c-e2df-ea5d3b99d079"
   },
   "outputs": [
    {
     "name": "stdout",
     "output_type": "stream",
     "text": [
      "looking\n",
      "look\n",
      "VERB\n",
      "VBG\n",
      "True\n",
      "False\n"
     ]
    }
   ],
   "source": [
    "# Lemmas (the base form of the word):\n",
    "print(doc2[4].text)\n",
    "print(doc2[4].lemma_)\n",
    "print(doc2[4].pos_)\n",
    "print(doc2[4].tag_)\n",
    "print(doc2[4].is_alpha)\n",
    "print(doc2[4].is_stop)"
   ]
  },
  {
   "cell_type": "code",
   "execution_count": 19,
   "metadata": {
    "colab": {
     "base_uri": "https://localhost:8080/",
     "height": 36
    },
    "executionInfo": {
     "elapsed": 279,
     "status": "ok",
     "timestamp": 1715782505711,
     "user": {
      "displayName": "Daniele Grotti",
      "userId": "05993002232846155126"
     },
     "user_tz": -120
    },
    "id": "iF8ih8AUFJKA",
    "outputId": "ab89a134-fe79-4ab8-8365-5de758fb2c99"
   },
   "outputs": [
    {
     "data": {
      "text/plain": [
       "'verb, gerund or present participle'"
      ]
     },
     "execution_count": 19,
     "metadata": {},
     "output_type": "execute_result"
    }
   ],
   "source": [
    "spacy.explain('VBG')"
   ]
  },
  {
   "cell_type": "code",
   "execution_count": 20,
   "metadata": {
    "colab": {
     "base_uri": "https://localhost:8080/"
    },
    "executionInfo": {
     "elapsed": 491,
     "status": "ok",
     "timestamp": 1715782540256,
     "user": {
      "displayName": "Daniele Grotti",
      "userId": "05993002232846155126"
     },
     "user_tz": -120
    },
    "id": "le4nOx_ln2P1",
    "outputId": "9a3b2104-4b9b-4116-c7b8-0de7ece74db3"
   },
   "outputs": [
    {
     "name": "stdout",
     "output_type": "stream",
     "text": [
      "VERB\n",
      "VBG / verb, gerund or present participle\n"
     ]
    }
   ],
   "source": [
    "# Simple Parts-of-Speech & Detailed Tags:\n",
    "print(doc2[4].pos_)\n",
    "print(doc2[4].tag_ + ' / ' + spacy.explain(doc2[4].tag_))"
   ]
  },
  {
   "cell_type": "code",
   "execution_count": null,
   "metadata": {
    "id": "Ic-5Bs-GLNqK"
   },
   "outputs": [],
   "source": []
  },
  {
   "cell_type": "code",
   "execution_count": 21,
   "metadata": {
    "colab": {
     "base_uri": "https://localhost:8080/"
    },
    "executionInfo": {
     "elapsed": 327,
     "status": "ok",
     "timestamp": 1713544062588,
     "user": {
      "displayName": "Daniele Grotti",
      "userId": "05993002232846155126"
     },
     "user_tz": -120
    },
    "id": "DTk4Qohsn2P1",
    "outputId": "65424736-c3c7-4267-e3df-7f6a95127b35"
   },
   "outputs": [
    {
     "name": "stdout",
     "output_type": "stream",
     "text": [
      "Tesla: Xxxxx\n",
      "U.S.A : X.X.X\n"
     ]
    }
   ],
   "source": [
    "# Word Shapes:\n",
    "print(doc2[0].text+': '+doc2[0].shape_)\n",
    "print(doc[5].text+' : '+doc[5].shape_)"
   ]
  },
  {
   "cell_type": "code",
   "execution_count": 22,
   "metadata": {
    "colab": {
     "base_uri": "https://localhost:8080/"
    },
    "executionInfo": {
     "elapsed": 5,
     "status": "ok",
     "timestamp": 1713544076286,
     "user": {
      "displayName": "Daniele Grotti",
      "userId": "05993002232846155126"
     },
     "user_tz": -120
    },
    "id": "UFhMxtM5n2P2",
    "outputId": "4f62162f-7c37-45a5-d677-8bc14dd17f0a"
   },
   "outputs": [
    {
     "name": "stdout",
     "output_type": "stream",
     "text": [
      "True\n",
      "False\n"
     ]
    }
   ],
   "source": [
    "# Boolean Values:\n",
    "print(doc2[0].is_alpha) #alfabetic\n",
    "print(doc2[0].is_stop)  #is a stopwords"
   ]
  },
  {
   "cell_type": "markdown",
   "metadata": {
    "id": "qQNyWdYTn2P2"
   },
   "source": [
    "___\n",
    "## Spans\n",
    "Large Doc objects can be hard to work with at times. A **span** is a slice of Doc object in the form `Doc[start:stop]`."
   ]
  },
  {
   "cell_type": "code",
   "execution_count": 23,
   "metadata": {
    "id": "6-uXERNFn2P2"
   },
   "outputs": [],
   "source": [
    "doc3 = nlp('Although commmonly attributed to John Lennon from his song \"Beautiful Boy\", \\\n",
    "the phrase \"Life is what happens to us while we are making other plans\" was written by \\\n",
    "cartoonist Allen Saunders and published in Reader\\'s Digest in 1957, when Lennon was 17.')"
   ]
  },
  {
   "cell_type": "code",
   "execution_count": 24,
   "metadata": {
    "colab": {
     "base_uri": "https://localhost:8080/"
    },
    "executionInfo": {
     "elapsed": 619,
     "status": "ok",
     "timestamp": 1715782638889,
     "user": {
      "displayName": "Daniele Grotti",
      "userId": "05993002232846155126"
     },
     "user_tz": -120
    },
    "id": "EliuplnwbpTg",
    "outputId": "72ad0888-3277-4302-c15d-2b07da0ff698"
   },
   "outputs": [
    {
     "data": {
      "text/plain": [
       "spacy.tokens.doc.Doc"
      ]
     },
     "execution_count": 24,
     "metadata": {},
     "output_type": "execute_result"
    }
   ],
   "source": [
    "type(doc3)"
   ]
  },
  {
   "cell_type": "code",
   "execution_count": 25,
   "metadata": {
    "colab": {
     "base_uri": "https://localhost:8080/"
    },
    "executionInfo": {
     "elapsed": 250,
     "status": "ok",
     "timestamp": 1715782664461,
     "user": {
      "displayName": "Daniele Grotti",
      "userId": "05993002232846155126"
     },
     "user_tz": -120
    },
    "id": "0yIlbfein2P2",
    "outputId": "62ead323-aef1-4042-f450-3a1a91ef4a53"
   },
   "outputs": [
    {
     "name": "stdout",
     "output_type": "stream",
     "text": [
      "is what happens to us while we are making other plans\n"
     ]
    }
   ],
   "source": [
    "life_quote = doc3[18:29]\n",
    "print(life_quote)"
   ]
  },
  {
   "cell_type": "code",
   "execution_count": 26,
   "metadata": {
    "colab": {
     "base_uri": "https://localhost:8080/"
    },
    "executionInfo": {
     "elapsed": 359,
     "status": "ok",
     "timestamp": 1715782674232,
     "user": {
      "displayName": "Daniele Grotti",
      "userId": "05993002232846155126"
     },
     "user_tz": -120
    },
    "id": "TQ-TExU_n2P3",
    "outputId": "0309c2bf-32f3-42ca-ec23-bb094ac22be4"
   },
   "outputs": [
    {
     "data": {
      "text/plain": [
       "spacy.tokens.span.Span"
      ]
     },
     "execution_count": 26,
     "metadata": {},
     "output_type": "execute_result"
    }
   ],
   "source": [
    "type(life_quote)"
   ]
  },
  {
   "cell_type": "markdown",
   "metadata": {
    "id": "nXcShUDCn2P3"
   },
   "source": [
    "___\n",
    "## Sentences\n",
    "Certain tokens inside a Doc object may also receive a \"start of sentence\" tag. While this doesn't immediately build a list of sentences, these tags enable the generation of sentence segments through `Doc.sents`. Later we'll write our own segmentation rules."
   ]
  },
  {
   "cell_type": "code",
   "execution_count": 27,
   "metadata": {
    "id": "HAby1IrPn2P3"
   },
   "outputs": [],
   "source": [
    "doc4 = nlp('This is the first sentence. This is another sentence.This is the last sentence.')"
   ]
  },
  {
   "cell_type": "code",
   "execution_count": 28,
   "metadata": {
    "colab": {
     "base_uri": "https://localhost:8080/"
    },
    "executionInfo": {
     "elapsed": 4,
     "status": "ok",
     "timestamp": 1715783069343,
     "user": {
      "displayName": "Daniele Grotti",
      "userId": "05993002232846155126"
     },
     "user_tz": -120
    },
    "id": "awFbbI8kn2P3",
    "outputId": "228ba27e-fc87-44b3-df47-cdc18c20b5bb"
   },
   "outputs": [
    {
     "name": "stdout",
     "output_type": "stream",
     "text": [
      "This is the first sentence.\n",
      "This is another sentence.\n",
      "This is the last sentence.\n"
     ]
    }
   ],
   "source": [
    "for sent in doc4.sents:\n",
    "    print(sent)"
   ]
  },
  {
   "cell_type": "code",
   "execution_count": 29,
   "metadata": {
    "colab": {
     "base_uri": "https://localhost:8080/",
     "height": 36
    },
    "executionInfo": {
     "elapsed": 6,
     "status": "ok",
     "timestamp": 1715783071304,
     "user": {
      "displayName": "Daniele Grotti",
      "userId": "05993002232846155126"
     },
     "user_tz": -120
    },
    "id": "LQjLXGMScRes",
    "outputId": "36e7f214-c1b3-4e43-e79b-ff53f655514f"
   },
   "outputs": [
    {
     "data": {
      "text/plain": [
       "'This'"
      ]
     },
     "execution_count": 29,
     "metadata": {},
     "output_type": "execute_result"
    }
   ],
   "source": [
    "doc4[6].text"
   ]
  },
  {
   "cell_type": "code",
   "execution_count": 31,
   "metadata": {
    "colab": {
     "base_uri": "https://localhost:8080/"
    },
    "executionInfo": {
     "elapsed": 4,
     "status": "ok",
     "timestamp": 1715783074286,
     "user": {
      "displayName": "Daniele Grotti",
      "userId": "05993002232846155126"
     },
     "user_tz": -120
    },
    "id": "u7G5gvH0cdpU",
    "outputId": "0fe2f416-8d8c-44c6-d94e-e42e8ffae67f"
   },
   "outputs": [
    {
     "data": {
      "text/plain": [
       "."
      ]
     },
     "execution_count": 31,
     "metadata": {},
     "output_type": "execute_result"
    }
   ],
   "source": [
    "doc4[5]"
   ]
  },
  {
   "cell_type": "code",
   "execution_count": 32,
   "metadata": {
    "colab": {
     "base_uri": "https://localhost:8080/"
    },
    "executionInfo": {
     "elapsed": 4,
     "status": "ok",
     "timestamp": 1715783076852,
     "user": {
      "displayName": "Daniele Grotti",
      "userId": "05993002232846155126"
     },
     "user_tz": -120
    },
    "id": "VStdne9fn2P3",
    "outputId": "68dd18f6-5250-4290-e97d-de798bed9113"
   },
   "outputs": [
    {
     "data": {
      "text/plain": [
       "True"
      ]
     },
     "execution_count": 32,
     "metadata": {},
     "output_type": "execute_result"
    }
   ],
   "source": [
    "doc4[6].is_sent_start"
   ]
  },
  {
   "cell_type": "markdown",
   "metadata": {
    "id": "Vl2f1srwMdyZ"
   },
   "source": [
    "## Recap all spaCy tools"
   ]
  },
  {
   "cell_type": "code",
   "execution_count": 1,
   "metadata": {
    "colab": {
     "base_uri": "https://localhost:8080/"
    },
    "executionInfo": {
     "elapsed": 919,
     "status": "ok",
     "timestamp": 1716293876991,
     "user": {
      "displayName": "Daniele Grotti",
      "userId": "05993002232846155126"
     },
     "user_tz": -120
    },
    "id": "sLk_kON2MEQP",
    "outputId": "19617b01-0a6c-4967-8227-27af7a07b451"
   },
   "outputs": [
    {
     "data": {
      "text/plain": [
       "Apple, This is first sentence. and Google this is another one. here 3rd one is"
      ]
     },
     "execution_count": 1,
     "metadata": {},
     "output_type": "execute_result"
    }
   ],
   "source": [
    "import spacy\n",
    "from spacy import displacy\n",
    "\n",
    "nlp = spacy.load('en_core_web_sm')\n",
    "text = \"Apple, This is first sentence. and Google this is another one. here 3rd one is\"\n",
    "doc = nlp(text)\n",
    "doc"
   ]
  },
  {
   "cell_type": "code",
   "execution_count": 2,
   "metadata": {
    "colab": {
     "base_uri": "https://localhost:8080/"
    },
    "executionInfo": {
     "elapsed": 5,
     "status": "ok",
     "timestamp": 1715783147741,
     "user": {
      "displayName": "Daniele Grotti",
      "userId": "05993002232846155126"
     },
     "user_tz": -120
    },
    "id": "wwc8O4UTMc76",
    "outputId": "2e70b89b-cc9c-4b53-e2e0-5e947e76d188"
   },
   "outputs": [
    {
     "name": "stdout",
     "output_type": "stream",
     "text": [
      "Apple\n",
      ",\n",
      "This\n",
      "is\n",
      "first\n",
      "sentence\n",
      ".\n",
      "and\n",
      "Google\n",
      "this\n",
      "is\n",
      "another\n",
      "one\n",
      ".\n",
      "here\n",
      "3rd\n",
      "one\n",
      "is\n"
     ]
    }
   ],
   "source": [
    "for token in doc:\n",
    "    print(token)"
   ]
  },
  {
   "cell_type": "code",
   "execution_count": null,
   "metadata": {
    "id": "0JTk29JrMoP7"
   },
   "outputs": [],
   "source": [
    "# sent = nlp.create_pipe('sentencizer')\n",
    "# nlp.add_pipe(sent)#), before='parser')\n",
    "# doc = nlp(text)"
   ]
  },
  {
   "cell_type": "code",
   "execution_count": 3,
   "metadata": {
    "colab": {
     "base_uri": "https://localhost:8080/"
    },
    "executionInfo": {
     "elapsed": 3,
     "status": "ok",
     "timestamp": 1715783157275,
     "user": {
      "displayName": "Daniele Grotti",
      "userId": "05993002232846155126"
     },
     "user_tz": -120
    },
    "id": "DpIJ7uUmMuB8",
    "outputId": "14e2ab52-7bc6-48b5-90a6-a036510c1fb8"
   },
   "outputs": [
    {
     "name": "stdout",
     "output_type": "stream",
     "text": [
      "Apple, This is first sentence.\n",
      "and Google this is another one.\n",
      "here 3rd one is\n"
     ]
    }
   ],
   "source": [
    "for sent in doc.sents:\n",
    "    print(sent)"
   ]
  },
  {
   "cell_type": "code",
   "execution_count": null,
   "metadata": {
    "id": "vSRvYocC6LyQ"
   },
   "outputs": [],
   "source": [
    "## Remove stopwords"
   ]
  },
  {
   "cell_type": "code",
   "execution_count": 35,
   "metadata": {
    "id": "Bgq-LX1h6Lv0"
   },
   "outputs": [],
   "source": [
    "from spacy.lang.en.stop_words import STOP_WORDS"
   ]
  },
  {
   "cell_type": "code",
   "execution_count": 36,
   "metadata": {
    "id": "POXsTvfD6LtW"
   },
   "outputs": [],
   "source": [
    "stopwords = list(STOP_WORDS)"
   ]
  },
  {
   "cell_type": "code",
   "execution_count": 37,
   "metadata": {
    "colab": {
     "base_uri": "https://localhost:8080/"
    },
    "executionInfo": {
     "elapsed": 273,
     "status": "ok",
     "timestamp": 1715783186813,
     "user": {
      "displayName": "Daniele Grotti",
      "userId": "05993002232846155126"
     },
     "user_tz": -120
    },
    "id": "hasXcXw2L4lm",
    "outputId": "6c950e9b-3ab7-4f69-f43d-4f2609fde512"
   },
   "outputs": [
    {
     "name": "stdout",
     "output_type": "stream",
     "text": [
      "['top', 'beforehand', 'eleven', 'hers', 'onto', 'toward', 'up', 'many', 'as', 'the', 'nevertheless', '’s', 'about', 'no', 'nowhere', 'thru', 'ever', 'enough', 'go', 'yourself', 'n‘t', 'everything', 'n’t', 'often', 'serious', '‘ve', 'otherwise', 'take', 'hundred', 'these', 'to', 'who', 'over', 'any', 'might', '’ll', 'were', 'front', 'seem', 'yours', 'after', \"n't\", 'sixty', 'it', 'my', 'either', 'such', 'cannot', 'get', 'whoever', 'ourselves', 'whether', 'only', 'something', 'and', 'among', 'upon', 'none', 'those', 'during', 'that', 'fifty', 'hence', 'ten', 'being', 'he', 'must', 'nor', 'whole', 'ours', 'she', '’m', 'least', \"'m\", 'seeming', '’ve', 'along', 'whose', 'therein', 'off', 'keep', 'three', 'again', 'except', 'can', 'per', 'several', 'how', 'latterly', 'sometime', 'will', 'everywhere', 'mine', 'behind', 'hereupon', 'anyone', 'itself', 'move', 'forty', 'thereupon', 'became', 'other', 'so', 'however', 'its', 'into', 'both', 'us', 'their', 'becomes', 'not', 'a', 'throughout', 'they', 'although', 'beside', 'few', 'less', 'your', 'amount', 'six', 'whereupon', 'across', 'nobody', 'nine', 'whatever', 'give', 'am', 'say', 'also', 'through', 'part', 'all', 'whereby', 'his', 'become', 'more', 'what', 'becoming', 'just', 'her', 'one', 'if', '‘m', 'then', 'own', 'of', 'yourselves', 'amongst', 'even', 'than', 'above', 'see', 'always', 'do', 'each', 'i', 'please', 'with', \"'re\", 'may', 'whence', 'done', 'themselves', 'anything', \"'s\", \"'d\", 'them', 'hereafter', 'too', '’re', 'there', 'using', 'you', 'which', 'eight', 'now', '‘d', '‘s', 'further', 'him', 'namely', 'why', 'could', 'various', 'never', 'within', 'since', 'been', 'latter', 'when', 'at', 'moreover', 'an', 'herein', 'has', 'in', 'is', 'somehow', 'seemed', 'alone', 'regarding', 'every', 'our', 'whenever', 'others', 'much', 'from', 'wherever', 'third', \"'ll\", 'down', 'hereby', 'whereas', 'or', 'beyond', 'be', '‘ll', 'made', 'four', 'empty', 'once', 'indeed', 'sometimes', 'around', 'call', 'thereafter', 'elsewhere', 'already', 're', 'because', 'on', 'some', 'mostly', 'really', 'back', 'besides', 'wherein', 'we', 'anyway', 'are', 'five', 'neither', 'afterwards', 'towards', 'should', 'whom', 'former', 'thus', 'whither', 'was', 'rather', 'have', 'whereafter', 'side', 'show', 'together', 'next', 'quite', 'well', 'someone', 'due', 'below', 'doing', 'yet', 'thence', 'full', 'before', '‘re', 'somewhere', 'anyhow', 'fifteen', 'most', 'between', '’d', 'two', 'twelve', 'though', 'same', 'formerly', 'here', 'me', 'put', 'via', 'under', 'twenty', 'used', 'very', 'name', 'thereby', 'does', 'by', 'anywhere', 'herself', 'had', 'therefore', \"'ve\", 'ca', 'while', 'until', 'another', 'myself', 'last', 'meanwhile', 'against', 'nothing', 'but', 'where', 'almost', 'make', 'else', 'would', 'seems', 'out', 'still', 'first', 'noone', 'himself', 'everyone', 'for', 'this', 'unless', 'did', 'perhaps', 'without', 'bottom']\n"
     ]
    }
   ],
   "source": [
    "print(stopwords)"
   ]
  },
  {
   "cell_type": "code",
   "execution_count": 38,
   "metadata": {
    "colab": {
     "base_uri": "https://localhost:8080/"
    },
    "executionInfo": {
     "elapsed": 249,
     "status": "ok",
     "timestamp": 1715783194036,
     "user": {
      "displayName": "Daniele Grotti",
      "userId": "05993002232846155126"
     },
     "user_tz": -120
    },
    "id": "8WRB0TaSL4iX",
    "outputId": "abd07975-8c47-459a-9ee3-b45ebbefa5ba"
   },
   "outputs": [
    {
     "data": {
      "text/plain": [
       "326"
      ]
     },
     "execution_count": 38,
     "metadata": {},
     "output_type": "execute_result"
    }
   ],
   "source": [
    "len(stopwords)"
   ]
  },
  {
   "cell_type": "code",
   "execution_count": 39,
   "metadata": {
    "colab": {
     "base_uri": "https://localhost:8080/"
    },
    "executionInfo": {
     "elapsed": 260,
     "status": "ok",
     "timestamp": 1715783226358,
     "user": {
      "displayName": "Daniele Grotti",
      "userId": "05993002232846155126"
     },
     "user_tz": -120
    },
    "id": "_s6z5MtyL4dO",
    "outputId": "da7c70c6-b2ae-4cc8-e70f-c2188dfb22d4"
   },
   "outputs": [
    {
     "name": "stdout",
     "output_type": "stream",
     "text": [
      "Apple\n",
      ",\n",
      "sentence\n",
      ".\n",
      "Google\n",
      ".\n",
      "3rd\n"
     ]
    }
   ],
   "source": [
    "text = \"Apple, This is first sentence. and Google this is another one. here 3rd one is\"\n",
    "doc = nlp(text)\n",
    "\n",
    "for token in doc:\n",
    "    if token.is_stop == False:\n",
    "        print(token)"
   ]
  },
  {
   "cell_type": "code",
   "execution_count": null,
   "metadata": {
    "id": "WffeKGfQL4ah"
   },
   "outputs": [],
   "source": [
    "### Lemmatization"
   ]
  },
  {
   "cell_type": "code",
   "execution_count": 40,
   "metadata": {
    "id": "uKphP4LhM15m"
   },
   "outputs": [],
   "source": [
    "doc = nlp('run runs running runners')"
   ]
  },
  {
   "cell_type": "code",
   "execution_count": 41,
   "metadata": {
    "colab": {
     "base_uri": "https://localhost:8080/"
    },
    "executionInfo": {
     "elapsed": 2,
     "status": "ok",
     "timestamp": 1715783338290,
     "user": {
      "displayName": "Daniele Grotti",
      "userId": "05993002232846155126"
     },
     "user_tz": -120
    },
    "id": "uQf73mk-M2xq",
    "outputId": "7f38bee2-97aa-464b-be6b-9f51da28007b"
   },
   "outputs": [
    {
     "name": "stdout",
     "output_type": "stream",
     "text": [
      "run run\n",
      "runs run\n",
      "running run\n",
      "runners runner\n"
     ]
    }
   ],
   "source": [
    "for lem in doc:\n",
    "    print(lem.text, lem.lemma_)"
   ]
  },
  {
   "cell_type": "code",
   "execution_count": null,
   "metadata": {
    "id": "U8QReEHhM2vB"
   },
   "outputs": [],
   "source": [
    "##POS"
   ]
  },
  {
   "cell_type": "code",
   "execution_count": 42,
   "metadata": {
    "executionInfo": {
     "elapsed": 400,
     "status": "ok",
     "timestamp": 1716293891420,
     "user": {
      "displayName": "Daniele Grotti",
      "userId": "05993002232846155126"
     },
     "user_tz": -120
    },
    "id": "7w5-oyK6M2qW"
   },
   "outputs": [],
   "source": [
    "doc = nlp('All is well at your end!')"
   ]
  },
  {
   "cell_type": "code",
   "execution_count": 43,
   "metadata": {
    "colab": {
     "base_uri": "https://localhost:8080/"
    },
    "executionInfo": {
     "elapsed": 5,
     "status": "ok",
     "timestamp": 1716293891421,
     "user": {
      "displayName": "Daniele Grotti",
      "userId": "05993002232846155126"
     },
     "user_tz": -120
    },
    "id": "ReL4GtuBM2n3",
    "outputId": "d8e6ac6b-9947-4502-c0b8-01e974b7d0ef"
   },
   "outputs": [
    {
     "name": "stdout",
     "output_type": "stream",
     "text": [
      "All PRON\n",
      "is AUX\n",
      "well ADV\n",
      "at ADP\n",
      "your PRON\n",
      "end NOUN\n",
      "! PUNCT\n"
     ]
    }
   ],
   "source": [
    "for token in doc:\n",
    "    print(token.text, token.pos_)"
   ]
  },
  {
   "cell_type": "code",
   "execution_count": 44,
   "metadata": {
    "colab": {
     "base_uri": "https://localhost:8080/",
     "height": 334
    },
    "executionInfo": {
     "elapsed": 6,
     "status": "ok",
     "timestamp": 1716293893175,
     "user": {
      "displayName": "Daniele Grotti",
      "userId": "05993002232846155126"
     },
     "user_tz": -120
    },
    "id": "CsLjoMu8M2lL",
    "outputId": "db3dcb1e-cfec-4b9f-ee5c-0254c1043586"
   },
   "outputs": [
    {
     "data": {
      "text/html": [
       "<span class=\"tex2jax_ignore\"><svg xmlns=\"http://www.w3.org/2000/svg\" xmlns:xlink=\"http://www.w3.org/1999/xlink\" xml:lang=\"en\" id=\"3fe5a061b1e44f259ea7b736589a6f89-0\" class=\"displacy\" width=\"1100\" height=\"312.0\" direction=\"ltr\" style=\"max-width: none; height: 312.0px; color: #000000; background: #ffffff; font-family: Arial; direction: ltr\">\n",
       "<text class=\"displacy-token\" fill=\"currentColor\" text-anchor=\"middle\" y=\"222.0\">\n",
       "    <tspan class=\"displacy-word\" fill=\"currentColor\" x=\"50\">All</tspan>\n",
       "    <tspan class=\"displacy-tag\" dy=\"2em\" fill=\"currentColor\" x=\"50\">PRON</tspan>\n",
       "</text>\n",
       "\n",
       "<text class=\"displacy-token\" fill=\"currentColor\" text-anchor=\"middle\" y=\"222.0\">\n",
       "    <tspan class=\"displacy-word\" fill=\"currentColor\" x=\"225\">is</tspan>\n",
       "    <tspan class=\"displacy-tag\" dy=\"2em\" fill=\"currentColor\" x=\"225\">AUX</tspan>\n",
       "</text>\n",
       "\n",
       "<text class=\"displacy-token\" fill=\"currentColor\" text-anchor=\"middle\" y=\"222.0\">\n",
       "    <tspan class=\"displacy-word\" fill=\"currentColor\" x=\"400\">well</tspan>\n",
       "    <tspan class=\"displacy-tag\" dy=\"2em\" fill=\"currentColor\" x=\"400\">ADV</tspan>\n",
       "</text>\n",
       "\n",
       "<text class=\"displacy-token\" fill=\"currentColor\" text-anchor=\"middle\" y=\"222.0\">\n",
       "    <tspan class=\"displacy-word\" fill=\"currentColor\" x=\"575\">at</tspan>\n",
       "    <tspan class=\"displacy-tag\" dy=\"2em\" fill=\"currentColor\" x=\"575\">ADP</tspan>\n",
       "</text>\n",
       "\n",
       "<text class=\"displacy-token\" fill=\"currentColor\" text-anchor=\"middle\" y=\"222.0\">\n",
       "    <tspan class=\"displacy-word\" fill=\"currentColor\" x=\"750\">your</tspan>\n",
       "    <tspan class=\"displacy-tag\" dy=\"2em\" fill=\"currentColor\" x=\"750\">PRON</tspan>\n",
       "</text>\n",
       "\n",
       "<text class=\"displacy-token\" fill=\"currentColor\" text-anchor=\"middle\" y=\"222.0\">\n",
       "    <tspan class=\"displacy-word\" fill=\"currentColor\" x=\"925\">end!</tspan>\n",
       "    <tspan class=\"displacy-tag\" dy=\"2em\" fill=\"currentColor\" x=\"925\">NOUN</tspan>\n",
       "</text>\n",
       "\n",
       "<g class=\"displacy-arrow\">\n",
       "    <path class=\"displacy-arc\" id=\"arrow-3fe5a061b1e44f259ea7b736589a6f89-0-0\" stroke-width=\"2px\" d=\"M70,177.0 C70,89.5 220.0,89.5 220.0,177.0\" fill=\"none\" stroke=\"currentColor\"/>\n",
       "    <text dy=\"1.25em\" style=\"font-size: 0.8em; letter-spacing: 1px\">\n",
       "        <textPath xlink:href=\"#arrow-3fe5a061b1e44f259ea7b736589a6f89-0-0\" class=\"displacy-label\" startOffset=\"50%\" side=\"left\" fill=\"currentColor\" text-anchor=\"middle\">nsubj</textPath>\n",
       "    </text>\n",
       "    <path class=\"displacy-arrowhead\" d=\"M70,179.0 L62,167.0 78,167.0\" fill=\"currentColor\"/>\n",
       "</g>\n",
       "\n",
       "<g class=\"displacy-arrow\">\n",
       "    <path class=\"displacy-arc\" id=\"arrow-3fe5a061b1e44f259ea7b736589a6f89-0-1\" stroke-width=\"2px\" d=\"M245,177.0 C245,89.5 395.0,89.5 395.0,177.0\" fill=\"none\" stroke=\"currentColor\"/>\n",
       "    <text dy=\"1.25em\" style=\"font-size: 0.8em; letter-spacing: 1px\">\n",
       "        <textPath xlink:href=\"#arrow-3fe5a061b1e44f259ea7b736589a6f89-0-1\" class=\"displacy-label\" startOffset=\"50%\" side=\"left\" fill=\"currentColor\" text-anchor=\"middle\">advmod</textPath>\n",
       "    </text>\n",
       "    <path class=\"displacy-arrowhead\" d=\"M395.0,179.0 L403.0,167.0 387.0,167.0\" fill=\"currentColor\"/>\n",
       "</g>\n",
       "\n",
       "<g class=\"displacy-arrow\">\n",
       "    <path class=\"displacy-arc\" id=\"arrow-3fe5a061b1e44f259ea7b736589a6f89-0-2\" stroke-width=\"2px\" d=\"M245,177.0 C245,2.0 575.0,2.0 575.0,177.0\" fill=\"none\" stroke=\"currentColor\"/>\n",
       "    <text dy=\"1.25em\" style=\"font-size: 0.8em; letter-spacing: 1px\">\n",
       "        <textPath xlink:href=\"#arrow-3fe5a061b1e44f259ea7b736589a6f89-0-2\" class=\"displacy-label\" startOffset=\"50%\" side=\"left\" fill=\"currentColor\" text-anchor=\"middle\">prep</textPath>\n",
       "    </text>\n",
       "    <path class=\"displacy-arrowhead\" d=\"M575.0,179.0 L583.0,167.0 567.0,167.0\" fill=\"currentColor\"/>\n",
       "</g>\n",
       "\n",
       "<g class=\"displacy-arrow\">\n",
       "    <path class=\"displacy-arc\" id=\"arrow-3fe5a061b1e44f259ea7b736589a6f89-0-3\" stroke-width=\"2px\" d=\"M770,177.0 C770,89.5 920.0,89.5 920.0,177.0\" fill=\"none\" stroke=\"currentColor\"/>\n",
       "    <text dy=\"1.25em\" style=\"font-size: 0.8em; letter-spacing: 1px\">\n",
       "        <textPath xlink:href=\"#arrow-3fe5a061b1e44f259ea7b736589a6f89-0-3\" class=\"displacy-label\" startOffset=\"50%\" side=\"left\" fill=\"currentColor\" text-anchor=\"middle\">poss</textPath>\n",
       "    </text>\n",
       "    <path class=\"displacy-arrowhead\" d=\"M770,179.0 L762,167.0 778,167.0\" fill=\"currentColor\"/>\n",
       "</g>\n",
       "\n",
       "<g class=\"displacy-arrow\">\n",
       "    <path class=\"displacy-arc\" id=\"arrow-3fe5a061b1e44f259ea7b736589a6f89-0-4\" stroke-width=\"2px\" d=\"M595,177.0 C595,2.0 925.0,2.0 925.0,177.0\" fill=\"none\" stroke=\"currentColor\"/>\n",
       "    <text dy=\"1.25em\" style=\"font-size: 0.8em; letter-spacing: 1px\">\n",
       "        <textPath xlink:href=\"#arrow-3fe5a061b1e44f259ea7b736589a6f89-0-4\" class=\"displacy-label\" startOffset=\"50%\" side=\"left\" fill=\"currentColor\" text-anchor=\"middle\">pobj</textPath>\n",
       "    </text>\n",
       "    <path class=\"displacy-arrowhead\" d=\"M925.0,179.0 L933.0,167.0 917.0,167.0\" fill=\"currentColor\"/>\n",
       "</g>\n",
       "</svg></span>"
      ],
      "text/plain": [
       "<IPython.core.display.HTML object>"
      ]
     },
     "metadata": {},
     "output_type": "display_data"
    }
   ],
   "source": [
    "displacy.render(doc, style = 'dep', jupyter=True)"
   ]
  },
  {
   "cell_type": "code",
   "execution_count": 45,
   "metadata": {
    "colab": {
     "base_uri": "https://localhost:8080/",
     "height": 309
    },
    "executionInfo": {
     "elapsed": 1087,
     "status": "ok",
     "timestamp": 1716293911085,
     "user": {
      "displayName": "Daniele Grotti",
      "userId": "05993002232846155126"
     },
     "user_tz": -120
    },
    "id": "Y6HDVRkSI25n",
    "outputId": "4c34478f-dbd5-42ca-ee50-a76a1b1c8193"
   },
   "outputs": [
    {
     "data": {
      "text/html": [
       "<span class=\"tex2jax_ignore\"><svg xmlns=\"http://www.w3.org/2000/svg\" xmlns:xlink=\"http://www.w3.org/1999/xlink\" xml:lang=\"en\" id=\"d8aa8d72e4084fc8846499e36f70b238-0\" class=\"displacy\" width=\"950\" height=\"287.0\" direction=\"ltr\" style=\"max-width: none; height: 287.0px; color: darkgreen; background: #ffffff; font-family: Arial; direction: ltr\">\n",
       "<text class=\"displacy-token\" fill=\"currentColor\" text-anchor=\"middle\" y=\"197.0\">\n",
       "    <tspan class=\"displacy-word\" fill=\"currentColor\" x=\"50\">Not</tspan>\n",
       "    <tspan class=\"displacy-lemma\" dy=\"2em\" fill=\"currentColor\" x=\"50\">not</tspan>\n",
       "    <tspan class=\"displacy-tag\" dy=\"2em\" fill=\"currentColor\" x=\"50\">PART</tspan>\n",
       "</text>\n",
       "\n",
       "<text class=\"displacy-token\" fill=\"currentColor\" text-anchor=\"middle\" y=\"197.0\">\n",
       "    <tspan class=\"displacy-word\" fill=\"currentColor\" x=\"150\">all</tspan>\n",
       "    <tspan class=\"displacy-lemma\" dy=\"2em\" fill=\"currentColor\" x=\"150\">all</tspan>\n",
       "    <tspan class=\"displacy-tag\" dy=\"2em\" fill=\"currentColor\" x=\"150\">DET</tspan>\n",
       "</text>\n",
       "\n",
       "<text class=\"displacy-token\" fill=\"currentColor\" text-anchor=\"middle\" y=\"197.0\">\n",
       "    <tspan class=\"displacy-word\" fill=\"currentColor\" x=\"250\">cheeses</tspan>\n",
       "    <tspan class=\"displacy-lemma\" dy=\"2em\" fill=\"currentColor\" x=\"250\">cheese</tspan>\n",
       "    <tspan class=\"displacy-tag\" dy=\"2em\" fill=\"currentColor\" x=\"250\">NOUN</tspan>\n",
       "</text>\n",
       "\n",
       "<text class=\"displacy-token\" fill=\"currentColor\" text-anchor=\"middle\" y=\"197.0\">\n",
       "    <tspan class=\"displacy-word\" fill=\"currentColor\" x=\"350\">require</tspan>\n",
       "    <tspan class=\"displacy-lemma\" dy=\"2em\" fill=\"currentColor\" x=\"350\">require</tspan>\n",
       "    <tspan class=\"displacy-tag\" dy=\"2em\" fill=\"currentColor\" x=\"350\">VERB</tspan>\n",
       "</text>\n",
       "\n",
       "<text class=\"displacy-token\" fill=\"currentColor\" text-anchor=\"middle\" y=\"197.0\">\n",
       "    <tspan class=\"displacy-word\" fill=\"currentColor\" x=\"450\">this</tspan>\n",
       "    <tspan class=\"displacy-lemma\" dy=\"2em\" fill=\"currentColor\" x=\"450\">this</tspan>\n",
       "    <tspan class=\"displacy-tag\" dy=\"2em\" fill=\"currentColor\" x=\"450\">DET</tspan>\n",
       "</text>\n",
       "\n",
       "<text class=\"displacy-token\" fill=\"currentColor\" text-anchor=\"middle\" y=\"197.0\">\n",
       "    <tspan class=\"displacy-word\" fill=\"currentColor\" x=\"550\">final</tspan>\n",
       "    <tspan class=\"displacy-lemma\" dy=\"2em\" fill=\"currentColor\" x=\"550\">final</tspan>\n",
       "    <tspan class=\"displacy-tag\" dy=\"2em\" fill=\"currentColor\" x=\"550\">ADJ</tspan>\n",
       "</text>\n",
       "\n",
       "<text class=\"displacy-token\" fill=\"currentColor\" text-anchor=\"middle\" y=\"197.0\">\n",
       "    <tspan class=\"displacy-word\" fill=\"currentColor\" x=\"650\">stage</tspan>\n",
       "    <tspan class=\"displacy-lemma\" dy=\"2em\" fill=\"currentColor\" x=\"650\">stage</tspan>\n",
       "    <tspan class=\"displacy-tag\" dy=\"2em\" fill=\"currentColor\" x=\"650\">NOUN</tspan>\n",
       "</text>\n",
       "\n",
       "<text class=\"displacy-token\" fill=\"currentColor\" text-anchor=\"middle\" y=\"197.0\">\n",
       "    <tspan class=\"displacy-word\" fill=\"currentColor\" x=\"750\">of</tspan>\n",
       "    <tspan class=\"displacy-lemma\" dy=\"2em\" fill=\"currentColor\" x=\"750\">of</tspan>\n",
       "    <tspan class=\"displacy-tag\" dy=\"2em\" fill=\"currentColor\" x=\"750\">ADP</tspan>\n",
       "</text>\n",
       "\n",
       "<text class=\"displacy-token\" fill=\"currentColor\" text-anchor=\"middle\" y=\"197.0\">\n",
       "    <tspan class=\"displacy-word\" fill=\"currentColor\" x=\"850\">ripening.</tspan>\n",
       "    <tspan class=\"displacy-lemma\" dy=\"2em\" fill=\"currentColor\" x=\"850\">ripen</tspan>\n",
       "    <tspan class=\"displacy-tag\" dy=\"2em\" fill=\"currentColor\" x=\"850\">VERB</tspan>\n",
       "</text>\n",
       "\n",
       "<g class=\"displacy-arrow\">\n",
       "    <path class=\"displacy-arc\" id=\"arrow-d8aa8d72e4084fc8846499e36f70b238-0-0\" stroke-width=\"2px\" d=\"M62,152.0 62,135.33333333333334 144.0,135.33333333333334 144.0,152.0\" fill=\"none\" stroke=\"currentColor\"/>\n",
       "    <text dy=\"1.25em\" style=\"font-size: 0.8em; letter-spacing: 1px\">\n",
       "        <textPath xlink:href=\"#arrow-d8aa8d72e4084fc8846499e36f70b238-0-0\" class=\"displacy-label\" startOffset=\"50%\" side=\"left\" fill=\"currentColor\" text-anchor=\"middle\">neg</textPath>\n",
       "    </text>\n",
       "    <path class=\"displacy-arrowhead\" d=\"M62,154.0 L58,146.0 66,146.0\" fill=\"currentColor\"/>\n",
       "</g>\n",
       "\n",
       "<g class=\"displacy-arrow\">\n",
       "    <path class=\"displacy-arc\" id=\"arrow-d8aa8d72e4084fc8846499e36f70b238-0-1\" stroke-width=\"2px\" d=\"M162,152.0 162,135.33333333333334 244.0,135.33333333333334 244.0,152.0\" fill=\"none\" stroke=\"currentColor\"/>\n",
       "    <text dy=\"1.25em\" style=\"font-size: 0.8em; letter-spacing: 1px\">\n",
       "        <textPath xlink:href=\"#arrow-d8aa8d72e4084fc8846499e36f70b238-0-1\" class=\"displacy-label\" startOffset=\"50%\" side=\"left\" fill=\"currentColor\" text-anchor=\"middle\">det</textPath>\n",
       "    </text>\n",
       "    <path class=\"displacy-arrowhead\" d=\"M162,154.0 L158,146.0 166,146.0\" fill=\"currentColor\"/>\n",
       "</g>\n",
       "\n",
       "<g class=\"displacy-arrow\">\n",
       "    <path class=\"displacy-arc\" id=\"arrow-d8aa8d72e4084fc8846499e36f70b238-0-2\" stroke-width=\"2px\" d=\"M262,152.0 262,135.33333333333334 344.0,135.33333333333334 344.0,152.0\" fill=\"none\" stroke=\"currentColor\"/>\n",
       "    <text dy=\"1.25em\" style=\"font-size: 0.8em; letter-spacing: 1px\">\n",
       "        <textPath xlink:href=\"#arrow-d8aa8d72e4084fc8846499e36f70b238-0-2\" class=\"displacy-label\" startOffset=\"50%\" side=\"left\" fill=\"currentColor\" text-anchor=\"middle\">nsubj</textPath>\n",
       "    </text>\n",
       "    <path class=\"displacy-arrowhead\" d=\"M262,154.0 L258,146.0 266,146.0\" fill=\"currentColor\"/>\n",
       "</g>\n",
       "\n",
       "<g class=\"displacy-arrow\">\n",
       "    <path class=\"displacy-arc\" id=\"arrow-d8aa8d72e4084fc8846499e36f70b238-0-3\" stroke-width=\"2px\" d=\"M462,152.0 462,118.66666666666666 647.0,118.66666666666666 647.0,152.0\" fill=\"none\" stroke=\"currentColor\"/>\n",
       "    <text dy=\"1.25em\" style=\"font-size: 0.8em; letter-spacing: 1px\">\n",
       "        <textPath xlink:href=\"#arrow-d8aa8d72e4084fc8846499e36f70b238-0-3\" class=\"displacy-label\" startOffset=\"50%\" side=\"left\" fill=\"currentColor\" text-anchor=\"middle\">det</textPath>\n",
       "    </text>\n",
       "    <path class=\"displacy-arrowhead\" d=\"M462,154.0 L458,146.0 466,146.0\" fill=\"currentColor\"/>\n",
       "</g>\n",
       "\n",
       "<g class=\"displacy-arrow\">\n",
       "    <path class=\"displacy-arc\" id=\"arrow-d8aa8d72e4084fc8846499e36f70b238-0-4\" stroke-width=\"2px\" d=\"M562,152.0 562,135.33333333333334 644.0,135.33333333333334 644.0,152.0\" fill=\"none\" stroke=\"currentColor\"/>\n",
       "    <text dy=\"1.25em\" style=\"font-size: 0.8em; letter-spacing: 1px\">\n",
       "        <textPath xlink:href=\"#arrow-d8aa8d72e4084fc8846499e36f70b238-0-4\" class=\"displacy-label\" startOffset=\"50%\" side=\"left\" fill=\"currentColor\" text-anchor=\"middle\">amod</textPath>\n",
       "    </text>\n",
       "    <path class=\"displacy-arrowhead\" d=\"M562,154.0 L558,146.0 566,146.0\" fill=\"currentColor\"/>\n",
       "</g>\n",
       "\n",
       "<g class=\"displacy-arrow\">\n",
       "    <path class=\"displacy-arc\" id=\"arrow-d8aa8d72e4084fc8846499e36f70b238-0-5\" stroke-width=\"2px\" d=\"M362,152.0 362,102.0 650.0,102.0 650.0,152.0\" fill=\"none\" stroke=\"currentColor\"/>\n",
       "    <text dy=\"1.25em\" style=\"font-size: 0.8em; letter-spacing: 1px\">\n",
       "        <textPath xlink:href=\"#arrow-d8aa8d72e4084fc8846499e36f70b238-0-5\" class=\"displacy-label\" startOffset=\"50%\" side=\"left\" fill=\"currentColor\" text-anchor=\"middle\">dobj</textPath>\n",
       "    </text>\n",
       "    <path class=\"displacy-arrowhead\" d=\"M650.0,154.0 L654.0,146.0 646.0,146.0\" fill=\"currentColor\"/>\n",
       "</g>\n",
       "\n",
       "<g class=\"displacy-arrow\">\n",
       "    <path class=\"displacy-arc\" id=\"arrow-d8aa8d72e4084fc8846499e36f70b238-0-6\" stroke-width=\"2px\" d=\"M662,152.0 662,135.33333333333334 744.0,135.33333333333334 744.0,152.0\" fill=\"none\" stroke=\"currentColor\"/>\n",
       "    <text dy=\"1.25em\" style=\"font-size: 0.8em; letter-spacing: 1px\">\n",
       "        <textPath xlink:href=\"#arrow-d8aa8d72e4084fc8846499e36f70b238-0-6\" class=\"displacy-label\" startOffset=\"50%\" side=\"left\" fill=\"currentColor\" text-anchor=\"middle\">prep</textPath>\n",
       "    </text>\n",
       "    <path class=\"displacy-arrowhead\" d=\"M744.0,154.0 L748.0,146.0 740.0,146.0\" fill=\"currentColor\"/>\n",
       "</g>\n",
       "\n",
       "<g class=\"displacy-arrow\">\n",
       "    <path class=\"displacy-arc\" id=\"arrow-d8aa8d72e4084fc8846499e36f70b238-0-7\" stroke-width=\"2px\" d=\"M762,152.0 762,135.33333333333334 844.0,135.33333333333334 844.0,152.0\" fill=\"none\" stroke=\"currentColor\"/>\n",
       "    <text dy=\"1.25em\" style=\"font-size: 0.8em; letter-spacing: 1px\">\n",
       "        <textPath xlink:href=\"#arrow-d8aa8d72e4084fc8846499e36f70b238-0-7\" class=\"displacy-label\" startOffset=\"50%\" side=\"left\" fill=\"currentColor\" text-anchor=\"middle\">pcomp</textPath>\n",
       "    </text>\n",
       "    <path class=\"displacy-arrowhead\" d=\"M844.0,154.0 L848.0,146.0 840.0,146.0\" fill=\"currentColor\"/>\n",
       "</g>\n",
       "</svg></span>"
      ],
      "text/plain": [
       "<IPython.core.display.HTML object>"
      ]
     },
     "metadata": {},
     "output_type": "display_data"
    }
   ],
   "source": [
    "from spacy import displacy\n",
    "nlp = spacy.load('en_core_web_sm')\n",
    "\n",
    "docx = nlp(\"Not all cheeses require this final stage of ripening.\")\n",
    "\n",
    "options = {\"compact\":True,\"color\": \"darkgreen\", \"add_lemma\": True, \"distance\": 100 }\n",
    "displacy.render(docx,style='dep', options=options, jupyter=True)"
   ]
  },
  {
   "cell_type": "code",
   "execution_count": 46,
   "metadata": {
    "colab": {
     "base_uri": "https://localhost:8080/",
     "height": 334
    },
    "executionInfo": {
     "elapsed": 292,
     "status": "ok",
     "timestamp": 1716293923745,
     "user": {
      "displayName": "Daniele Grotti",
      "userId": "05993002232846155126"
     },
     "user_tz": -120
    },
    "id": "kpS7zWnrK4bR",
    "outputId": "190eac95-82f7-4888-ec61-00307b048403"
   },
   "outputs": [
    {
     "data": {
      "text/html": [
       "<span class=\"tex2jax_ignore\"><svg xmlns=\"http://www.w3.org/2000/svg\" xmlns:xlink=\"http://www.w3.org/1999/xlink\" xml:lang=\"en\" id=\"3fcbfc489bc9462eb4eef5c70c717f38-0\" class=\"displacy\" width=\"1100\" height=\"312.0\" direction=\"ltr\" style=\"max-width: none; height: 312.0px; color: Purple; background: #ffffff; font-family: Arial; direction: ltr\">\n",
       "<text class=\"displacy-token\" fill=\"currentColor\" text-anchor=\"middle\" y=\"222.0\">\n",
       "    <tspan class=\"displacy-word\" fill=\"currentColor\" x=\"50\">These</tspan>\n",
       "    <tspan class=\"displacy-lemma\" dy=\"2em\" fill=\"currentColor\" x=\"50\">these</tspan>\n",
       "    <tspan class=\"displacy-tag\" dy=\"2em\" fill=\"currentColor\" x=\"50\">DET</tspan>\n",
       "</text>\n",
       "\n",
       "<text class=\"displacy-token\" fill=\"currentColor\" text-anchor=\"middle\" y=\"222.0\">\n",
       "    <tspan class=\"displacy-word\" fill=\"currentColor\" x=\"225\">oranges</tspan>\n",
       "    <tspan class=\"displacy-lemma\" dy=\"2em\" fill=\"currentColor\" x=\"225\">orange</tspan>\n",
       "    <tspan class=\"displacy-tag\" dy=\"2em\" fill=\"currentColor\" x=\"225\">NOUN</tspan>\n",
       "</text>\n",
       "\n",
       "<text class=\"displacy-token\" fill=\"currentColor\" text-anchor=\"middle\" y=\"222.0\">\n",
       "    <tspan class=\"displacy-word\" fill=\"currentColor\" x=\"400\">are</tspan>\n",
       "    <tspan class=\"displacy-lemma\" dy=\"2em\" fill=\"currentColor\" x=\"400\">be</tspan>\n",
       "    <tspan class=\"displacy-tag\" dy=\"2em\" fill=\"currentColor\" x=\"400\">AUX</tspan>\n",
       "</text>\n",
       "\n",
       "<text class=\"displacy-token\" fill=\"currentColor\" text-anchor=\"middle\" y=\"222.0\">\n",
       "    <tspan class=\"displacy-word\" fill=\"currentColor\" x=\"575\">sweet</tspan>\n",
       "    <tspan class=\"displacy-lemma\" dy=\"2em\" fill=\"currentColor\" x=\"575\">sweet</tspan>\n",
       "    <tspan class=\"displacy-tag\" dy=\"2em\" fill=\"currentColor\" x=\"575\">ADJ</tspan>\n",
       "</text>\n",
       "\n",
       "<text class=\"displacy-token\" fill=\"currentColor\" text-anchor=\"middle\" y=\"222.0\">\n",
       "    <tspan class=\"displacy-word\" fill=\"currentColor\" x=\"750\">and</tspan>\n",
       "    <tspan class=\"displacy-lemma\" dy=\"2em\" fill=\"currentColor\" x=\"750\">and</tspan>\n",
       "    <tspan class=\"displacy-tag\" dy=\"2em\" fill=\"currentColor\" x=\"750\">CCONJ</tspan>\n",
       "</text>\n",
       "\n",
       "<text class=\"displacy-token\" fill=\"currentColor\" text-anchor=\"middle\" y=\"222.0\">\n",
       "    <tspan class=\"displacy-word\" fill=\"currentColor\" x=\"925\">juicy.</tspan>\n",
       "    <tspan class=\"displacy-lemma\" dy=\"2em\" fill=\"currentColor\" x=\"925\">juicy</tspan>\n",
       "    <tspan class=\"displacy-tag\" dy=\"2em\" fill=\"currentColor\" x=\"925\">ADJ</tspan>\n",
       "</text>\n",
       "\n",
       "<g class=\"displacy-arrow\">\n",
       "    <path class=\"displacy-arc\" id=\"arrow-3fcbfc489bc9462eb4eef5c70c717f38-0-0\" stroke-width=\"2px\" d=\"M70,177.0 C70,89.5 220.0,89.5 220.0,177.0\" fill=\"none\" stroke=\"currentColor\"/>\n",
       "    <text dy=\"1.25em\" style=\"font-size: 0.8em; letter-spacing: 1px\">\n",
       "        <textPath xlink:href=\"#arrow-3fcbfc489bc9462eb4eef5c70c717f38-0-0\" class=\"displacy-label\" startOffset=\"50%\" side=\"left\" fill=\"currentColor\" text-anchor=\"middle\">det</textPath>\n",
       "    </text>\n",
       "    <path class=\"displacy-arrowhead\" d=\"M70,179.0 L62,167.0 78,167.0\" fill=\"currentColor\"/>\n",
       "</g>\n",
       "\n",
       "<g class=\"displacy-arrow\">\n",
       "    <path class=\"displacy-arc\" id=\"arrow-3fcbfc489bc9462eb4eef5c70c717f38-0-1\" stroke-width=\"2px\" d=\"M245,177.0 C245,89.5 395.0,89.5 395.0,177.0\" fill=\"none\" stroke=\"currentColor\"/>\n",
       "    <text dy=\"1.25em\" style=\"font-size: 0.8em; letter-spacing: 1px\">\n",
       "        <textPath xlink:href=\"#arrow-3fcbfc489bc9462eb4eef5c70c717f38-0-1\" class=\"displacy-label\" startOffset=\"50%\" side=\"left\" fill=\"currentColor\" text-anchor=\"middle\">nsubj</textPath>\n",
       "    </text>\n",
       "    <path class=\"displacy-arrowhead\" d=\"M245,179.0 L237,167.0 253,167.0\" fill=\"currentColor\"/>\n",
       "</g>\n",
       "\n",
       "<g class=\"displacy-arrow\">\n",
       "    <path class=\"displacy-arc\" id=\"arrow-3fcbfc489bc9462eb4eef5c70c717f38-0-2\" stroke-width=\"2px\" d=\"M420,177.0 C420,89.5 570.0,89.5 570.0,177.0\" fill=\"none\" stroke=\"currentColor\"/>\n",
       "    <text dy=\"1.25em\" style=\"font-size: 0.8em; letter-spacing: 1px\">\n",
       "        <textPath xlink:href=\"#arrow-3fcbfc489bc9462eb4eef5c70c717f38-0-2\" class=\"displacy-label\" startOffset=\"50%\" side=\"left\" fill=\"currentColor\" text-anchor=\"middle\">acomp</textPath>\n",
       "    </text>\n",
       "    <path class=\"displacy-arrowhead\" d=\"M570.0,179.0 L578.0,167.0 562.0,167.0\" fill=\"currentColor\"/>\n",
       "</g>\n",
       "\n",
       "<g class=\"displacy-arrow\">\n",
       "    <path class=\"displacy-arc\" id=\"arrow-3fcbfc489bc9462eb4eef5c70c717f38-0-3\" stroke-width=\"2px\" d=\"M595,177.0 C595,89.5 745.0,89.5 745.0,177.0\" fill=\"none\" stroke=\"currentColor\"/>\n",
       "    <text dy=\"1.25em\" style=\"font-size: 0.8em; letter-spacing: 1px\">\n",
       "        <textPath xlink:href=\"#arrow-3fcbfc489bc9462eb4eef5c70c717f38-0-3\" class=\"displacy-label\" startOffset=\"50%\" side=\"left\" fill=\"currentColor\" text-anchor=\"middle\">cc</textPath>\n",
       "    </text>\n",
       "    <path class=\"displacy-arrowhead\" d=\"M745.0,179.0 L753.0,167.0 737.0,167.0\" fill=\"currentColor\"/>\n",
       "</g>\n",
       "\n",
       "<g class=\"displacy-arrow\">\n",
       "    <path class=\"displacy-arc\" id=\"arrow-3fcbfc489bc9462eb4eef5c70c717f38-0-4\" stroke-width=\"2px\" d=\"M595,177.0 C595,2.0 925.0,2.0 925.0,177.0\" fill=\"none\" stroke=\"currentColor\"/>\n",
       "    <text dy=\"1.25em\" style=\"font-size: 0.8em; letter-spacing: 1px\">\n",
       "        <textPath xlink:href=\"#arrow-3fcbfc489bc9462eb4eef5c70c717f38-0-4\" class=\"displacy-label\" startOffset=\"50%\" side=\"left\" fill=\"currentColor\" text-anchor=\"middle\">conj</textPath>\n",
       "    </text>\n",
       "    <path class=\"displacy-arrowhead\" d=\"M925.0,179.0 L933.0,167.0 917.0,167.0\" fill=\"currentColor\"/>\n",
       "</g>\n",
       "</svg></span>"
      ],
      "text/plain": [
       "<IPython.core.display.HTML object>"
      ]
     },
     "metadata": {},
     "output_type": "display_data"
    }
   ],
   "source": [
    "#Displacy - dep Style\n",
    "docx = nlp(\"These oranges are sweet and juicy.\")\n",
    "\n",
    "options = {\"color\": \"Purple\", \"add_lemma\": True}\n",
    "displacy.render(docx,style='dep', options = options, jupyter=True)"
   ]
  },
  {
   "cell_type": "code",
   "execution_count": 19,
   "metadata": {
    "executionInfo": {
     "elapsed": 268,
     "status": "ok",
     "timestamp": 1716293928594,
     "user": {
      "displayName": "Daniele Grotti",
      "userId": "05993002232846155126"
     },
     "user_tz": -120
    },
    "id": "rQwrv9ZfNBgD"
   },
   "outputs": [],
   "source": [
    "### Name Entity Recognition (NER)"
   ]
  },
  {
   "cell_type": "code",
   "execution_count": 20,
   "metadata": {
    "executionInfo": {
     "elapsed": 319,
     "status": "ok",
     "timestamp": 1716293936092,
     "user": {
      "displayName": "Daniele Grotti",
      "userId": "05993002232846155126"
     },
     "user_tz": -120
    },
    "id": "03zgSBjPNdwx"
   },
   "outputs": [],
   "source": [
    "doc = nlp(\"New York City on Tuesday declared a public health emergency and ordered mandatory measles vaccinations amid an outbreak, becoming the latest national flash point over refusals to inoculate against dangerous diseases. At least 285 people have contracted measles in the city since September, mostly in Brooklyn’s Williamsburg neighborhood. The order covers four zip codes there, Mayor Bill de Blasio (D) said Tuesday. The mandate orders all unvaccinated people in the area, including a concentration of Orthodox Jews, to receive inoculations, including for children as young as 6 months old. Anyone who resists could be fined up to $ 1,000.\")"
   ]
  },
  {
   "cell_type": "code",
   "execution_count": 21,
   "metadata": {
    "colab": {
     "base_uri": "https://localhost:8080/",
     "height": 36
    },
    "executionInfo": {
     "elapsed": 6,
     "status": "ok",
     "timestamp": 1716293937173,
     "user": {
      "displayName": "Daniele Grotti",
      "userId": "05993002232846155126"
     },
     "user_tz": -120
    },
    "id": "BC3DK-OFNeke",
    "outputId": "2ab28e61-c8d8-4575-82a1-4d9fe1b99c79"
   },
   "outputs": [
    {
     "data": {
      "application/vnd.google.colaboratory.intrinsic+json": {
       "type": "string"
      },
      "text/plain": [
       "'PROPN'"
      ]
     },
     "execution_count": 21,
     "metadata": {},
     "output_type": "execute_result"
    }
   ],
   "source": [
    "doc[0].pos_"
   ]
  },
  {
   "cell_type": "code",
   "execution_count": 22,
   "metadata": {
    "colab": {
     "base_uri": "https://localhost:8080/",
     "height": 36
    },
    "executionInfo": {
     "elapsed": 283,
     "status": "ok",
     "timestamp": 1716293941715,
     "user": {
      "displayName": "Daniele Grotti",
      "userId": "05993002232846155126"
     },
     "user_tz": -120
    },
    "id": "WooOeXyIH9Ux",
    "outputId": "2106e443-3ed4-489d-a9fd-238654ab614b"
   },
   "outputs": [
    {
     "data": {
      "application/vnd.google.colaboratory.intrinsic+json": {
       "type": "string"
      },
      "text/plain": [
       "'Nationalities or religious or political groups'"
      ]
     },
     "execution_count": 22,
     "metadata": {},
     "output_type": "execute_result"
    }
   ],
   "source": [
    "spacy.explain('NORP')"
   ]
  },
  {
   "cell_type": "code",
   "execution_count": 23,
   "metadata": {
    "colab": {
     "base_uri": "https://localhost:8080/",
     "height": 122
    },
    "executionInfo": {
     "elapsed": 7,
     "status": "ok",
     "timestamp": 1716293942945,
     "user": {
      "displayName": "Daniele Grotti",
      "userId": "05993002232846155126"
     },
     "user_tz": -120
    },
    "id": "CjaoLqmvNehf",
    "outputId": "199f6e69-62e1-4fdb-b581-ff349d1d55f5"
   },
   "outputs": [
    {
     "data": {
      "text/html": [
       "<span class=\"tex2jax_ignore\"><div class=\"entities\" style=\"line-height: 2.5; direction: ltr\">\n",
       "<mark class=\"entity\" style=\"background: #feca74; padding: 0.45em 0.6em; margin: 0 0.25em; line-height: 1; border-radius: 0.35em;\">\n",
       "    New York City\n",
       "    <span style=\"font-size: 0.8em; font-weight: bold; line-height: 1; border-radius: 0.35em; vertical-align: middle; margin-left: 0.5rem\">GPE</span>\n",
       "</mark>\n",
       " on \n",
       "<mark class=\"entity\" style=\"background: #bfe1d9; padding: 0.45em 0.6em; margin: 0 0.25em; line-height: 1; border-radius: 0.35em;\">\n",
       "    Tuesday\n",
       "    <span style=\"font-size: 0.8em; font-weight: bold; line-height: 1; border-radius: 0.35em; vertical-align: middle; margin-left: 0.5rem\">DATE</span>\n",
       "</mark>\n",
       " declared a public health emergency and ordered mandatory measles vaccinations amid an outbreak, becoming the latest national flash point over refusals to inoculate against dangerous diseases. \n",
       "<mark class=\"entity\" style=\"background: #e4e7d2; padding: 0.45em 0.6em; margin: 0 0.25em; line-height: 1; border-radius: 0.35em;\">\n",
       "    At least 285\n",
       "    <span style=\"font-size: 0.8em; font-weight: bold; line-height: 1; border-radius: 0.35em; vertical-align: middle; margin-left: 0.5rem\">CARDINAL</span>\n",
       "</mark>\n",
       " people have contracted measles in the city since \n",
       "<mark class=\"entity\" style=\"background: #bfe1d9; padding: 0.45em 0.6em; margin: 0 0.25em; line-height: 1; border-radius: 0.35em;\">\n",
       "    September\n",
       "    <span style=\"font-size: 0.8em; font-weight: bold; line-height: 1; border-radius: 0.35em; vertical-align: middle; margin-left: 0.5rem\">DATE</span>\n",
       "</mark>\n",
       ", mostly in \n",
       "<mark class=\"entity\" style=\"background: #feca74; padding: 0.45em 0.6em; margin: 0 0.25em; line-height: 1; border-radius: 0.35em;\">\n",
       "    Brooklyn\n",
       "    <span style=\"font-size: 0.8em; font-weight: bold; line-height: 1; border-radius: 0.35em; vertical-align: middle; margin-left: 0.5rem\">GPE</span>\n",
       "</mark>\n",
       "’s \n",
       "<mark class=\"entity\" style=\"background: #feca74; padding: 0.45em 0.6em; margin: 0 0.25em; line-height: 1; border-radius: 0.35em;\">\n",
       "    Williamsburg\n",
       "    <span style=\"font-size: 0.8em; font-weight: bold; line-height: 1; border-radius: 0.35em; vertical-align: middle; margin-left: 0.5rem\">GPE</span>\n",
       "</mark>\n",
       " neighborhood. The order covers \n",
       "<mark class=\"entity\" style=\"background: #e4e7d2; padding: 0.45em 0.6em; margin: 0 0.25em; line-height: 1; border-radius: 0.35em;\">\n",
       "    four\n",
       "    <span style=\"font-size: 0.8em; font-weight: bold; line-height: 1; border-radius: 0.35em; vertical-align: middle; margin-left: 0.5rem\">CARDINAL</span>\n",
       "</mark>\n",
       " zip codes there, Mayor \n",
       "<mark class=\"entity\" style=\"background: #aa9cfc; padding: 0.45em 0.6em; margin: 0 0.25em; line-height: 1; border-radius: 0.35em;\">\n",
       "    Bill de Blasio\n",
       "    <span style=\"font-size: 0.8em; font-weight: bold; line-height: 1; border-radius: 0.35em; vertical-align: middle; margin-left: 0.5rem\">PERSON</span>\n",
       "</mark>\n",
       " (D) said \n",
       "<mark class=\"entity\" style=\"background: #bfe1d9; padding: 0.45em 0.6em; margin: 0 0.25em; line-height: 1; border-radius: 0.35em;\">\n",
       "    Tuesday\n",
       "    <span style=\"font-size: 0.8em; font-weight: bold; line-height: 1; border-radius: 0.35em; vertical-align: middle; margin-left: 0.5rem\">DATE</span>\n",
       "</mark>\n",
       ". The mandate orders all unvaccinated people in the area, including a concentration of \n",
       "<mark class=\"entity\" style=\"background: #c887fb; padding: 0.45em 0.6em; margin: 0 0.25em; line-height: 1; border-radius: 0.35em;\">\n",
       "    Orthodox\n",
       "    <span style=\"font-size: 0.8em; font-weight: bold; line-height: 1; border-radius: 0.35em; vertical-align: middle; margin-left: 0.5rem\">NORP</span>\n",
       "</mark>\n",
       " \n",
       "<mark class=\"entity\" style=\"background: #c887fb; padding: 0.45em 0.6em; margin: 0 0.25em; line-height: 1; border-radius: 0.35em;\">\n",
       "    Jews\n",
       "    <span style=\"font-size: 0.8em; font-weight: bold; line-height: 1; border-radius: 0.35em; vertical-align: middle; margin-left: 0.5rem\">NORP</span>\n",
       "</mark>\n",
       ", to receive inoculations, including for children \n",
       "<mark class=\"entity\" style=\"background: #bfe1d9; padding: 0.45em 0.6em; margin: 0 0.25em; line-height: 1; border-radius: 0.35em;\">\n",
       "    as young as 6 months old\n",
       "    <span style=\"font-size: 0.8em; font-weight: bold; line-height: 1; border-radius: 0.35em; vertical-align: middle; margin-left: 0.5rem\">DATE</span>\n",
       "</mark>\n",
       ". Anyone who resists could be fined \n",
       "<mark class=\"entity\" style=\"background: #e4e7d2; padding: 0.45em 0.6em; margin: 0 0.25em; line-height: 1; border-radius: 0.35em;\">\n",
       "    up to $ 1,000\n",
       "    <span style=\"font-size: 0.8em; font-weight: bold; line-height: 1; border-radius: 0.35em; vertical-align: middle; margin-left: 0.5rem\">MONEY</span>\n",
       "</mark>\n",
       ".</div></span>"
      ],
      "text/plain": [
       "<IPython.core.display.HTML object>"
      ]
     },
     "metadata": {},
     "output_type": "display_data"
    }
   ],
   "source": [
    "displacy.render(doc, style = 'ent',jupyter=True)"
   ]
  },
  {
   "cell_type": "code",
   "execution_count": null,
   "metadata": {
    "id": "IvchVj2rNeeo"
   },
   "outputs": [],
   "source": [
    "doc2 = nlp(\"Barr Clashes With House Democrats, Defending Responses to Protests and Russia Inquiry\"\n",
    "\"The deployment of federal agents to confront protesters and rioters and attacks on the Russia investigation highlighted a contentious hearing.\")"
   ]
  },
  {
   "cell_type": "code",
   "execution_count": null,
   "metadata": {
    "colab": {
     "base_uri": "https://localhost:8080/",
     "height": 52
    },
    "executionInfo": {
     "elapsed": 7,
     "status": "ok",
     "timestamp": 1715783998928,
     "user": {
      "displayName": "Daniele Grotti",
      "userId": "05993002232846155126"
     },
     "user_tz": -120
    },
    "id": "tGffTqj7NeZ4",
    "outputId": "b9b61b68-2dc5-40d8-96c4-0dc628261e92"
   },
   "outputs": [
    {
     "data": {
      "text/html": [
       "<span class=\"tex2jax_ignore\"><div class=\"entities\" style=\"line-height: 2.5; direction: ltr\">\n",
       "<mark class=\"entity\" style=\"background: #aa9cfc; padding: 0.45em 0.6em; margin: 0 0.25em; line-height: 1; border-radius: 0.35em;\">\n",
       "    Barr Clashes\n",
       "    <span style=\"font-size: 0.8em; font-weight: bold; line-height: 1; border-radius: 0.35em; vertical-align: middle; margin-left: 0.5rem\">PERSON</span>\n",
       "</mark>\n",
       " With \n",
       "<mark class=\"entity\" style=\"background: #7aecec; padding: 0.45em 0.6em; margin: 0 0.25em; line-height: 1; border-radius: 0.35em;\">\n",
       "    House\n",
       "    <span style=\"font-size: 0.8em; font-weight: bold; line-height: 1; border-radius: 0.35em; vertical-align: middle; margin-left: 0.5rem\">ORG</span>\n",
       "</mark>\n",
       " \n",
       "<mark class=\"entity\" style=\"background: #c887fb; padding: 0.45em 0.6em; margin: 0 0.25em; line-height: 1; border-radius: 0.35em;\">\n",
       "    Democrats\n",
       "    <span style=\"font-size: 0.8em; font-weight: bold; line-height: 1; border-radius: 0.35em; vertical-align: middle; margin-left: 0.5rem\">NORP</span>\n",
       "</mark>\n",
       ", \n",
       "<mark class=\"entity\" style=\"background: #7aecec; padding: 0.45em 0.6em; margin: 0 0.25em; line-height: 1; border-radius: 0.35em;\">\n",
       "    Defending Responses\n",
       "    <span style=\"font-size: 0.8em; font-weight: bold; line-height: 1; border-radius: 0.35em; vertical-align: middle; margin-left: 0.5rem\">ORG</span>\n",
       "</mark>\n",
       " to \n",
       "<mark class=\"entity\" style=\"background: #c887fb; padding: 0.45em 0.6em; margin: 0 0.25em; line-height: 1; border-radius: 0.35em;\">\n",
       "    Protests\n",
       "    <span style=\"font-size: 0.8em; font-weight: bold; line-height: 1; border-radius: 0.35em; vertical-align: middle; margin-left: 0.5rem\">NORP</span>\n",
       "</mark>\n",
       " and \n",
       "<mark class=\"entity\" style=\"background: #feca74; padding: 0.45em 0.6em; margin: 0 0.25em; line-height: 1; border-radius: 0.35em;\">\n",
       "    Russia\n",
       "    <span style=\"font-size: 0.8em; font-weight: bold; line-height: 1; border-radius: 0.35em; vertical-align: middle; margin-left: 0.5rem\">GPE</span>\n",
       "</mark>\n",
       " \n",
       "<mark class=\"entity\" style=\"background: #c887fb; padding: 0.45em 0.6em; margin: 0 0.25em; line-height: 1; border-radius: 0.35em;\">\n",
       "    InquiryThe\n",
       "    <span style=\"font-size: 0.8em; font-weight: bold; line-height: 1; border-radius: 0.35em; vertical-align: middle; margin-left: 0.5rem\">NORP</span>\n",
       "</mark>\n",
       " deployment of federal agents to confront protesters and rioters and attacks on the \n",
       "<mark class=\"entity\" style=\"background: #feca74; padding: 0.45em 0.6em; margin: 0 0.25em; line-height: 1; border-radius: 0.35em;\">\n",
       "    Russia\n",
       "    <span style=\"font-size: 0.8em; font-weight: bold; line-height: 1; border-radius: 0.35em; vertical-align: middle; margin-left: 0.5rem\">GPE</span>\n",
       "</mark>\n",
       " investigation highlighted a contentious hearing.</div></span>"
      ],
      "text/plain": [
       "<IPython.core.display.HTML object>"
      ]
     },
     "metadata": {},
     "output_type": "display_data"
    }
   ],
   "source": [
    "displacy.render(doc2, style = 'ent',jupyter=True)"
   ]
  },
  {
   "cell_type": "code",
   "execution_count": null,
   "metadata": {
    "colab": {
     "base_uri": "https://localhost:8080/",
     "height": 52
    },
    "executionInfo": {
     "elapsed": 1404,
     "status": "ok",
     "timestamp": 1715784001510,
     "user": {
      "displayName": "Daniele Grotti",
      "userId": "05993002232846155126"
     },
     "user_tz": -120
    },
    "id": "il_b6adsbKx4",
    "outputId": "dc0d0d14-bed8-4231-8c43-87d52895f0b8"
   },
   "outputs": [
    {
     "data": {
      "text/html": [
       "<span class=\"tex2jax_ignore\"><div class=\"entities\" style=\"line-height: 2.5; direction: ltr\">\n",
       "<mark class=\"entity\" style=\"background: #aa9cfc; padding: 0.45em 0.6em; margin: 0 0.25em; line-height: 1; border-radius: 0.35em;\">\n",
       "    Jeff Bezos\n",
       "    <span style=\"font-size: 0.8em; font-weight: bold; line-height: 1; border-radius: 0.35em; vertical-align: middle; margin-left: 0.5rem\">PERSON</span>\n",
       "</mark>\n",
       ", founder and CEO of \n",
       "<mark class=\"entity\" style=\"background: #7aecec; padding: 0.45em 0.6em; margin: 0 0.25em; line-height: 1; border-radius: 0.35em;\">\n",
       "    Amazon\n",
       "    <span style=\"font-size: 0.8em; font-weight: bold; line-height: 1; border-radius: 0.35em; vertical-align: middle; margin-left: 0.5rem\">ORG</span>\n",
       "</mark>\n",
       ", an ecommerce company with headquarter in \n",
       "<mark class=\"entity\" style=\"background: #feca74; padding: 0.45em 0.6em; margin: 0 0.25em; line-height: 1; border-radius: 0.35em;\">\n",
       "    Seattle\n",
       "    <span style=\"font-size: 0.8em; font-weight: bold; line-height: 1; border-radius: 0.35em; vertical-align: middle; margin-left: 0.5rem\">GPE</span>\n",
       "</mark>\n",
       ", became the world richest man on \n",
       "<mark class=\"entity\" style=\"background: #bfe1d9; padding: 0.45em 0.6em; margin: 0 0.25em; line-height: 1; border-radius: 0.35em;\">\n",
       "    October 2017\n",
       "    <span style=\"font-size: 0.8em; font-weight: bold; line-height: 1; border-radius: 0.35em; vertical-align: middle; margin-left: 0.5rem\">DATE</span>\n",
       "</mark>\n",
       " with a net worth of \n",
       "<mark class=\"entity\" style=\"background: #e4e7d2; padding: 0.45em 0.6em; margin: 0 0.25em; line-height: 1; border-radius: 0.35em;\">\n",
       "    90 billions\n",
       "    <span style=\"font-size: 0.8em; font-weight: bold; line-height: 1; border-radius: 0.35em; vertical-align: middle; margin-left: 0.5rem\">MONEY</span>\n",
       "</mark>\n",
       " USD</div></span>"
      ],
      "text/plain": [
       "<IPython.core.display.HTML object>"
      ]
     },
     "metadata": {},
     "output_type": "display_data"
    }
   ],
   "source": [
    "nlp = spacy.load(\"en_core_web_sm\")\n",
    "doc = nlp(\"Jeff Bezos, founder and CEO of Amazon, an ecommerce company with headquarter in Seattle, became the world richest man on October 2017 with a net worth of 90 billions USD\")\n",
    "\n",
    "displacy.render(doc, style='ent', jupyter=True)"
   ]
  },
  {
   "cell_type": "code",
   "execution_count": null,
   "metadata": {
    "id": "DQccpzOLNrMe"
   },
   "outputs": [],
   "source": [
    "## Esercizio\n",
    "\n",
    "#Prendere 10 frasi dal new york times ed applicare il NER di Spacy"
   ]
  },
  {
   "cell_type": "code",
   "execution_count": null,
   "metadata": {
    "colab": {
     "base_uri": "https://localhost:8080/",
     "height": 52
    },
    "executionInfo": {
     "elapsed": 1024,
     "status": "ok",
     "timestamp": 1668452485023,
     "user": {
      "displayName": "T3Lab Vision",
      "userId": "14779383426442114373"
     },
     "user_tz": -60
    },
    "id": "CohNmeGuNt-f",
    "outputId": "90f8ec2e-2420-401c-f3a2-829cbb0d270f"
   },
   "outputs": [
    {
     "data": {
      "text/html": [
       "<span class=\"tex2jax_ignore\"><div class=\"entities\" style=\"line-height: 2.5; direction: ltr\">After meeting for \n",
       "<mark class=\"entity\" style=\"background: #bfe1d9; padding: 0.45em 0.6em; margin: 0 0.25em; line-height: 1; border-radius: 0.35em;\">\n",
       "    three hours\n",
       "    <span style=\"font-size: 0.8em; font-weight: bold; line-height: 1; border-radius: 0.35em; vertical-align: middle; margin-left: 0.5rem\">TIME</span>\n",
       "</mark>\n",
       ", President \n",
       "<mark class=\"entity\" style=\"background: #aa9cfc; padding: 0.45em 0.6em; margin: 0 0.25em; line-height: 1; border-radius: 0.35em;\">\n",
       "    Biden\n",
       "    <span style=\"font-size: 0.8em; font-weight: bold; line-height: 1; border-radius: 0.35em; vertical-align: middle; margin-left: 0.5rem\">PERSON</span>\n",
       "</mark>\n",
       " and \n",
       "<mark class=\"entity\" style=\"background: #7aecec; padding: 0.45em 0.6em; margin: 0 0.25em; line-height: 1; border-radius: 0.35em;\">\n",
       "    Xi Jinping of China\n",
       "    <span style=\"font-size: 0.8em; font-weight: bold; line-height: 1; border-radius: 0.35em; vertical-align: middle; margin-left: 0.5rem\">ORG</span>\n",
       "</mark>\n",
       " made a cautious pledge to improve ties, while still laying bare a mutual distrust. </div></span>"
      ],
      "text/plain": [
       "<IPython.core.display.HTML object>"
      ]
     },
     "metadata": {},
     "output_type": "display_data"
    }
   ],
   "source": [
    "import spacy\n",
    "from spacy import displacy\n",
    "\n",
    "nlp = spacy.load(\"en_core_web_sm\")\n",
    "doc = nlp(\"After meeting for three hours, President Biden and Xi Jinping of China made a cautious pledge to improve ties, while still laying bare a mutual distrust. \")\n",
    "\n",
    "displacy.render(doc, style='ent', jupyter=True)"
   ]
  },
  {
   "cell_type": "markdown",
   "metadata": {
    "id": "Ma0MIFAGNw3X"
   },
   "source": [
    "## Test Classification"
   ]
  },
  {
   "cell_type": "markdown",
   "metadata": {
    "id": "VhkjOfAfORRi"
   },
   "source": [
    "### Bag of Words - The Simplest Word Embedding\n",
    "\n",
    "This is one of the simplest methods of embedding words into numerical vectors. It is not often used in practice due to its oversimplification of language, but often the first embedding technique to be taught in the classroom setting."
   ]
  },
  {
   "cell_type": "markdown",
   "metadata": {
    "id": "AHRnH8AZOMzE"
   },
   "source": [
    "<img src=\"https://frenzy86.s3.eu-west-2.amazonaws.com/fav/nlp/1.PNG\" width=\"600\">"
   ]
  },
  {
   "cell_type": "markdown",
   "metadata": {
    "id": "EBq0WsvKdMrZ"
   },
   "source": [
    "### TF-IDF\n",
    "TF-IDF or ( Term Frequency(TF) — Inverse Dense Frequency(IDF) )is a technique which is used to find meaning of sentences consisting of words and cancels out the incapabilities of Bag of Words technique which is good for text classification or for helping a machine read words in numbers"
   ]
  },
  {
   "cell_type": "markdown",
   "metadata": {
    "id": "APw0FeQ6N6dw"
   },
   "source": [
    "<img src=\"https://frenzy86.s3.eu-west-2.amazonaws.com/fav/nlp/2.PNG\" width=\"1000\">"
   ]
  },
  {
   "cell_type": "markdown",
   "metadata": {
    "id": "p3hH4KkuIXoO"
   },
   "source": [
    "## Sentiment Analysis"
   ]
  },
  {
   "cell_type": "markdown",
   "metadata": {
    "id": "E0GPkEdzIb3n"
   },
   "source": [
    "###Textblob with spacy"
   ]
  },
  {
   "cell_type": "code",
   "execution_count": 24,
   "metadata": {
    "colab": {
     "base_uri": "https://localhost:8080/"
    },
    "executionInfo": {
     "elapsed": 11608,
     "status": "ok",
     "timestamp": 1716294204110,
     "user": {
      "displayName": "Daniele Grotti",
      "userId": "05993002232846155126"
     },
     "user_tz": -120
    },
    "id": "NkRnqAKhGmDi",
    "outputId": "a73baf99-5b44-4514-a1ee-e8b1c0aadd5e"
   },
   "outputs": [
    {
     "name": "stdout",
     "output_type": "stream",
     "text": [
      "\u001b[?25l     \u001b[90m━━━━━━━━━━━━━━━━━━━━━━━━━━━━━━━━━━━━━━━━\u001b[0m \u001b[32m0.0/636.5 kB\u001b[0m \u001b[31m?\u001b[0m eta \u001b[36m-:--:--\u001b[0m\r\u001b[2K     \u001b[91m━━━━━━━━━━━━━━━━━━━━━━━━━━━━━━━━━━━━━━━\u001b[0m\u001b[91m╸\u001b[0m \u001b[32m634.9/636.5 kB\u001b[0m \u001b[31m20.6 MB/s\u001b[0m eta \u001b[36m0:00:01\u001b[0m\r\u001b[2K     \u001b[90m━━━━━━━━━━━━━━━━━━━━━━━━━━━━━━━━━━━━━━━━\u001b[0m \u001b[32m636.5/636.5 kB\u001b[0m \u001b[31m13.9 MB/s\u001b[0m eta \u001b[36m0:00:00\u001b[0m\n",
      "\u001b[?25h[nltk_data] Downloading package brown to /root/nltk_data...\n",
      "[nltk_data]   Unzipping corpora/brown.zip.\n",
      "[nltk_data] Downloading package punkt to /root/nltk_data...\n",
      "[nltk_data]   Unzipping tokenizers/punkt.zip.\n",
      "[nltk_data] Downloading package wordnet to /root/nltk_data...\n",
      "[nltk_data] Downloading package averaged_perceptron_tagger to\n",
      "[nltk_data]     /root/nltk_data...\n",
      "[nltk_data]   Unzipping taggers/averaged_perceptron_tagger.zip.\n",
      "[nltk_data] Downloading package conll2000 to /root/nltk_data...\n",
      "[nltk_data]   Unzipping corpora/conll2000.zip.\n",
      "[nltk_data] Downloading package movie_reviews to /root/nltk_data...\n",
      "[nltk_data]   Unzipping corpora/movie_reviews.zip.\n",
      "Finished.\n"
     ]
    }
   ],
   "source": [
    "!pip install spacytextblob -q\n",
    "!python -m textblob.download_corpora -q"
   ]
  },
  {
   "cell_type": "code",
   "execution_count": 25,
   "metadata": {
    "colab": {
     "base_uri": "https://localhost:8080/"
    },
    "executionInfo": {
     "elapsed": 2159,
     "status": "ok",
     "timestamp": 1716294309055,
     "user": {
      "displayName": "Daniele Grotti",
      "userId": "05993002232846155126"
     },
     "user_tz": -120
    },
    "id": "mI4RXOZYIfTv",
    "outputId": "40151aed-770b-48ca-b56e-3c476c4d4b15"
   },
   "outputs": [
    {
     "name": "stdout",
     "output_type": "stream",
     "text": [
      "Polarity:  0.5\n",
      "Subjectivity:  0.5\n",
      "Assessments:  [(['better'], 0.5, 0.5, None)]\n"
     ]
    }
   ],
   "source": [
    "import spacy\n",
    "from spacytextblob.spacytextblob import SpacyTextBlob\n",
    "\n",
    "nlp = spacy.load('en_core_web_sm')\n",
    "nlp.add_pipe('spacytextblob')\n",
    "\n",
    "#text = 'Jean had one of the most difficult days of her life while her week was bad.'\n",
    "text ='But she feels better days are to come.'\n",
    "doc = nlp(text)\n",
    "\n",
    "print(\"Polarity: \", doc._.polarity)\n",
    "print(\"Subjectivity: \", doc._.subjectivity)\n",
    "print(\"Assessments: \", doc._.assessments)"
   ]
  },
  {
   "cell_type": "markdown",
   "metadata": {
    "id": "YEa0jC_OIeH5"
   },
   "source": [
    "## Disable some components:"
   ]
  },
  {
   "cell_type": "code",
   "execution_count": 26,
   "metadata": {
    "colab": {
     "base_uri": "https://localhost:8080/",
     "height": 36
    },
    "executionInfo": {
     "elapsed": 981,
     "status": "ok",
     "timestamp": 1716294390944,
     "user": {
      "displayName": "Daniele Grotti",
      "userId": "05993002232846155126"
     },
     "user_tz": -120
    },
    "id": "UPdycLTRNHOW",
    "outputId": "fbc28ef4-7e58-48d5-daba-6e5393963179"
   },
   "outputs": [
    {
     "data": {
      "application/vnd.google.colaboratory.intrinsic+json": {
       "type": "string"
      },
      "text/plain": [
       "'Jean had one of the most difficult days of her life while her week was bad.But she feels better days are to come.'"
      ]
     },
     "execution_count": 26,
     "metadata": {},
     "output_type": "execute_result"
    }
   ],
   "source": [
    "#only \"tok2vec\"\n",
    "import spacy\n",
    "#nlp = spacy.load(\"en_core_web_sm\", disable=[\"tagger\", \"parser\", \"attribute_ruler\", \"lemmatizer\",\"ner\"]) # solo tok2vec\n",
    "nlp = spacy.load(\"en_core_web_sm\", disable=[\"tagger\", \"parser\", \"attribute_ruler\", \"lemmatizer\"]) # solo tok2vec +ner\n",
    "\n",
    "text = 'Jean had one of the most difficult days of her life while her week was bad.But she feels better days are to come.'\n",
    "doc = nlp(text)\n",
    "doc.text"
   ]
  },
  {
   "cell_type": "code",
   "execution_count": 27,
   "metadata": {
    "colab": {
     "base_uri": "https://localhost:8080/"
    },
    "executionInfo": {
     "elapsed": 256,
     "status": "ok",
     "timestamp": 1716294411258,
     "user": {
      "displayName": "Daniele Grotti",
      "userId": "05993002232846155126"
     },
     "user_tz": -120
    },
    "id": "1H9PdLL8JWbu",
    "outputId": "efd0c0b6-a19b-4708-dcc3-b51c21851006"
   },
   "outputs": [
    {
     "data": {
      "text/plain": [
       "Jean"
      ]
     },
     "execution_count": 27,
     "metadata": {},
     "output_type": "execute_result"
    }
   ],
   "source": [
    "doc[0]"
   ]
  },
  {
   "cell_type": "code",
   "execution_count": 28,
   "metadata": {
    "colab": {
     "base_uri": "https://localhost:8080/",
     "height": 141
    },
    "executionInfo": {
     "elapsed": 11,
     "status": "error",
     "timestamp": 1716294412616,
     "user": {
      "displayName": "Daniele Grotti",
      "userId": "05993002232846155126"
     },
     "user_tz": -120
    },
    "id": "Ig72mOpn7CQm",
    "outputId": "1413912a-5b49-4186-9289-dfec9034e5d7"
   },
   "outputs": [
    {
     "ename": "AttributeError",
     "evalue": "'spacy.tokens.doc.Doc' object has no attribute 'pos_'",
     "output_type": "error",
     "traceback": [
      "\u001b[0;31m---------------------------------------------------------------------------\u001b[0m",
      "\u001b[0;31mAttributeError\u001b[0m                            Traceback (most recent call last)",
      "\u001b[0;32m<ipython-input-28-5ecee311e7fd>\u001b[0m in \u001b[0;36m<cell line: 1>\u001b[0;34m()\u001b[0m\n\u001b[0;32m----> 1\u001b[0;31m \u001b[0mdoc\u001b[0m\u001b[0;34m.\u001b[0m\u001b[0mpos_\u001b[0m\u001b[0;34m\u001b[0m\u001b[0;34m\u001b[0m\u001b[0m\n\u001b[0m",
      "\u001b[0;31mAttributeError\u001b[0m: 'spacy.tokens.doc.Doc' object has no attribute 'pos_'"
     ]
    }
   ],
   "source": [
    "doc.pos_"
   ]
  },
  {
   "cell_type": "code",
   "execution_count": null,
   "metadata": {
    "colab": {
     "base_uri": "https://localhost:8080/",
     "height": 52
    },
    "executionInfo": {
     "elapsed": 7,
     "status": "ok",
     "timestamp": 1713543701481,
     "user": {
      "displayName": "Daniele Grotti",
      "userId": "05993002232846155126"
     },
     "user_tz": -120
    },
    "id": "SJ7wmX4H7CHB",
    "outputId": "7999acf3-1802-4619-ca8d-c4bf2cbf642c"
   },
   "outputs": [
    {
     "data": {
      "text/html": [
       "<span class=\"tex2jax_ignore\"><div class=\"entities\" style=\"line-height: 2.5; direction: ltr\">\n",
       "<mark class=\"entity\" style=\"background: #aa9cfc; padding: 0.45em 0.6em; margin: 0 0.25em; line-height: 1; border-radius: 0.35em;\">\n",
       "    Jean\n",
       "    <span style=\"font-size: 0.8em; font-weight: bold; line-height: 1; border-radius: 0.35em; vertical-align: middle; margin-left: 0.5rem\">PERSON</span>\n",
       "</mark>\n",
       " had \n",
       "<mark class=\"entity\" style=\"background: #e4e7d2; padding: 0.45em 0.6em; margin: 0 0.25em; line-height: 1; border-radius: 0.35em;\">\n",
       "    one\n",
       "    <span style=\"font-size: 0.8em; font-weight: bold; line-height: 1; border-radius: 0.35em; vertical-align: middle; margin-left: 0.5rem\">CARDINAL</span>\n",
       "</mark>\n",
       " of the most difficult days of her life while \n",
       "<mark class=\"entity\" style=\"background: #bfe1d9; padding: 0.45em 0.6em; margin: 0 0.25em; line-height: 1; border-radius: 0.35em;\">\n",
       "    her week\n",
       "    <span style=\"font-size: 0.8em; font-weight: bold; line-height: 1; border-radius: 0.35em; vertical-align: middle; margin-left: 0.5rem\">DATE</span>\n",
       "</mark>\n",
       " was bad.But she feels better days are to come.</div></span>"
      ],
      "text/plain": [
       "<IPython.core.display.HTML object>"
      ]
     },
     "metadata": {},
     "output_type": "display_data"
    }
   ],
   "source": [
    "from spacy import displacy\n",
    "displacy.render(doc, style = 'ent',jupyter=True)"
   ]
  },
  {
   "cell_type": "markdown",
   "metadata": {
    "id": "Ynd9cz_fNUe8"
   },
   "source": [
    "<img src=\"https://frenzy86.s3.eu-west-2.amazonaws.com/python/end.gif\" width=\"1000\">"
   ]
  },
  {
   "cell_type": "markdown",
   "metadata": {
    "id": "9K9nfbxfQuuf"
   },
   "source": [
    "## Neural Network NLP"
   ]
  },
  {
   "cell_type": "markdown",
   "metadata": {
    "id": "V-7XckYdd0am"
   },
   "source": [
    "<img src=\"https://frenzy86.s3.eu-west-2.amazonaws.com/IFAO/nlp/neural2.png\" width=\"1000\">"
   ]
  },
  {
   "cell_type": "markdown",
   "metadata": {
    "id": "pXiu_wvARjU9"
   },
   "source": [
    "<img src=\"https://frenzy86.s3.eu-west-2.amazonaws.com/IFAO/nlp/neural.png\" width=\"1000\">"
   ]
  },
  {
   "cell_type": "code",
   "execution_count": null,
   "metadata": {
    "id": "ryjHFgJyOLIP"
   },
   "outputs": [],
   "source": []
  }
 ],
 "metadata": {
  "colab": {
   "collapsed_sections": [
    "qQNyWdYTn2P2",
    "nXcShUDCn2P3"
   ],
   "provenance": []
  },
  "kernelspec": {
   "display_name": "Python 3",
   "language": "python",
   "name": "python3"
  },
  "language_info": {
   "codemirror_mode": {
    "name": "ipython",
    "version": 3
   },
   "file_extension": ".py",
   "mimetype": "text/x-python",
   "name": "python",
   "nbconvert_exporter": "python",
   "pygments_lexer": "ipython3",
   "version": "3.10.10"
  }
 },
 "nbformat": 4,
 "nbformat_minor": 0
}
